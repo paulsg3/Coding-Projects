{
  "nbformat": 4,
  "nbformat_minor": 5,
  "metadata": {
    "kernelspec": {
      "display_name": "Python 3",
      "language": "python",
      "name": "python3"
    },
    "language_info": {
      "codemirror_mode": {
        "name": "ipython",
        "version": 3
      },
      "file_extension": ".py",
      "mimetype": "text/x-python",
      "name": "python",
      "nbconvert_exporter": "python",
      "pygments_lexer": "ipython3",
      "version": "3.8.5"
    },
    "colab": {
      "name": "NHL ML Project Notebook",
      "provenance": []
    }
  },
  "cells": [
    {
      "cell_type": "code",
      "metadata": {
        "colab": {
          "base_uri": "https://localhost:8080/"
        },
        "id": "h4CySBesrxjW",
        "outputId": "811daeaa-541f-4c87-9832-9281077bbc6e"
      },
      "source": [
        "from google.colab import drive\n",
        "drive.mount('/content/drive')"
      ],
      "id": "h4CySBesrxjW",
      "execution_count": null,
      "outputs": [
        {
          "output_type": "stream",
          "text": [
            "Drive already mounted at /content/drive; to attempt to forcibly remount, call drive.mount(\"/content/drive\", force_remount=True).\n"
          ],
          "name": "stdout"
        }
      ]
    },
    {
      "cell_type": "code",
      "metadata": {
        "id": "pharmaceutical-upset"
      },
      "source": [
        "import pandas as pd\n",
        "import numpy as np"
      ],
      "id": "pharmaceutical-upset",
      "execution_count": null,
      "outputs": []
    },
    {
      "cell_type": "code",
      "metadata": {
        "id": "small-fireplace"
      },
      "source": [
        "def create_table(path):\n",
        "    df = pd.read_csv(path)\n",
        "    return df"
      ],
      "id": "small-fireplace",
      "execution_count": null,
      "outputs": []
    },
    {
      "cell_type": "code",
      "metadata": {
        "colab": {
          "base_uri": "https://localhost:8080/",
          "height": 235
        },
        "id": "complicated-academy",
        "outputId": "745a2323-1c3b-4514-f8e3-2d508c3c2931"
      },
      "source": [
        "# Generate dataframe from point share data\n",
        "# Needs to be in the same folder as this notebook\n",
        "path = \"/content/drive/MyDrive/Jobs/Instacart/pointshares.csv\"\n",
        "point_shares = create_table(path)\n",
        "\n",
        "# Make all the column names lowercase\n",
        "point_shares.columns = point_shares.columns.str.lower()\n",
        "# Make all the player names lowercase\n",
        "point_shares['name'] = point_shares['name'].str.lower()\n",
        "# Set the index of the dataframe to be the player name, we'll use this\n",
        "# to merge the different dataframes\n",
        "point_shares = point_shares.set_index('name')\n",
        "\n",
        "# Check to make sure the DataFrame looks right\n",
        "point_shares.head()"
      ],
      "id": "complicated-academy",
      "execution_count": null,
      "outputs": [
        {
          "output_type": "execute_result",
          "data": {
            "text/html": [
              "<div>\n",
              "<style scoped>\n",
              "    .dataframe tbody tr th:only-of-type {\n",
              "        vertical-align: middle;\n",
              "    }\n",
              "\n",
              "    .dataframe tbody tr th {\n",
              "        vertical-align: top;\n",
              "    }\n",
              "\n",
              "    .dataframe thead th {\n",
              "        text-align: right;\n",
              "    }\n",
              "</style>\n",
              "<table border=\"1\" class=\"dataframe\">\n",
              "  <thead>\n",
              "    <tr style=\"text-align: right;\">\n",
              "      <th></th>\n",
              "      <th>league</th>\n",
              "      <th>height</th>\n",
              "      <th>weight</th>\n",
              "      <th>gp</th>\n",
              "      <th>ps</th>\n",
              "    </tr>\n",
              "    <tr>\n",
              "      <th>name</th>\n",
              "      <th></th>\n",
              "      <th></th>\n",
              "      <th></th>\n",
              "      <th></th>\n",
              "      <th></th>\n",
              "    </tr>\n",
              "  </thead>\n",
              "  <tbody>\n",
              "    <tr>\n",
              "      <th>taylor hall</th>\n",
              "      <td>OHL</td>\n",
              "      <td>72.75</td>\n",
              "      <td>186</td>\n",
              "      <td>658</td>\n",
              "      <td>65.7</td>\n",
              "    </tr>\n",
              "    <tr>\n",
              "      <th>tyler seguin</th>\n",
              "      <td>OHL</td>\n",
              "      <td>72.75</td>\n",
              "      <td>180</td>\n",
              "      <td>741</td>\n",
              "      <td>79.9</td>\n",
              "    </tr>\n",
              "    <tr>\n",
              "      <th>cam fowler</th>\n",
              "      <td>OHL</td>\n",
              "      <td>74.00</td>\n",
              "      <td>195</td>\n",
              "      <td>713</td>\n",
              "      <td>52.3</td>\n",
              "    </tr>\n",
              "    <tr>\n",
              "      <th>brett connolly</th>\n",
              "      <td>WHL</td>\n",
              "      <td>74.00</td>\n",
              "      <td>181</td>\n",
              "      <td>513</td>\n",
              "      <td>19.3</td>\n",
              "    </tr>\n",
              "    <tr>\n",
              "      <th>riley sheahan</th>\n",
              "      <td>CCHA</td>\n",
              "      <td>73.50</td>\n",
              "      <td>202</td>\n",
              "      <td>543</td>\n",
              "      <td>11.2</td>\n",
              "    </tr>\n",
              "  </tbody>\n",
              "</table>\n",
              "</div>"
            ],
            "text/plain": [
              "               league  height  weight   gp    ps\n",
              "name                                            \n",
              "taylor hall       OHL   72.75     186  658  65.7\n",
              "tyler seguin      OHL   72.75     180  741  79.9\n",
              "cam fowler        OHL   74.00     195  713  52.3\n",
              "brett connolly    WHL   74.00     181  513  19.3\n",
              "riley sheahan    CCHA   73.50     202  543  11.2"
            ]
          },
          "metadata": {},
          "execution_count": 4
        }
      ]
    },
    {
      "cell_type": "code",
      "metadata": {
        "id": "tired-spain"
      },
      "source": [
        "# Generate dataframes from prospect data\n",
        "# All files must be in the same folder as this notebook\n",
        "path = \"/content/drive/MyDrive/Jobs/Instacart/2010dy.csv\"\n",
        "prospects2010 = create_table(path)\n",
        "path = \"/content/drive/MyDrive/Jobs/Instacart/2011dy.csv\"\n",
        "prospects2011 = create_table(path)\n",
        "path = \"/content/drive/MyDrive/Jobs/Instacart/2012dy.csv\"\n",
        "prospects2012 = create_table(path)\n",
        "path = \"/content/drive/MyDrive/Jobs/Instacart/2013dy.csv\"\n",
        "prospects2013 = create_table(path)"
      ],
      "id": "tired-spain",
      "execution_count": null,
      "outputs": []
    },
    {
      "cell_type": "code",
      "metadata": {
        "colab": {
          "base_uri": "https://localhost:8080/",
          "height": 235
        },
        "id": "every-buddy",
        "outputId": "ebe3faf9-c81c-4a27-85a2-de6d87be2848"
      },
      "source": [
        "# Merge the DY dataframes into one dataframe\n",
        "prospects = prospects2010.append([prospects2011, prospects2012, prospects2013])\n",
        "# Make all the column names lowercase\n",
        "prospects.columns = prospects.columns.str.lower()\n",
        "# Drop irrelevant columns\n",
        "prospects = prospects.drop(columns=['gp', 'player id', 'tg', 'tp1', 'tp', 'shoots'])\n",
        "\n",
        "# Eliminate all records where the player is not in one of the CHL leagues\n",
        "prospects = prospects[prospects['league'].isin(['OHL', 'WHL', 'QMJHL'])]\n",
        "# Turn the name into lowercase for the purposes of joining with pointshares\n",
        "prospects['name'] = prospects['name'].str.lower()\n",
        "prospects = prospects.set_index('name')\n",
        "\n",
        "prospects.head()"
      ],
      "id": "every-buddy",
      "execution_count": null,
      "outputs": [
        {
          "output_type": "execute_result",
          "data": {
            "text/html": [
              "<div>\n",
              "<style scoped>\n",
              "    .dataframe tbody tr th:only-of-type {\n",
              "        vertical-align: middle;\n",
              "    }\n",
              "\n",
              "    .dataframe tbody tr th {\n",
              "        vertical-align: top;\n",
              "    }\n",
              "\n",
              "    .dataframe thead th {\n",
              "        text-align: right;\n",
              "    }\n",
              "</style>\n",
              "<table border=\"1\" class=\"dataframe\">\n",
              "  <thead>\n",
              "    <tr style=\"text-align: right;\">\n",
              "      <th></th>\n",
              "      <th>league</th>\n",
              "      <th>dy+/-</th>\n",
              "      <th>season</th>\n",
              "      <th>ev p1/gp</th>\n",
              "      <th>pp p1/gp</th>\n",
              "      <th>tp/gp</th>\n",
              "      <th>goals/p1</th>\n",
              "      <th>ev gf%</th>\n",
              "      <th>ev gf%rel</th>\n",
              "      <th>etoi/gp</th>\n",
              "      <th>p1/e60</th>\n",
              "      <th>age sept 15</th>\n",
              "    </tr>\n",
              "    <tr>\n",
              "      <th>name</th>\n",
              "      <th></th>\n",
              "      <th></th>\n",
              "      <th></th>\n",
              "      <th></th>\n",
              "      <th></th>\n",
              "      <th></th>\n",
              "      <th></th>\n",
              "      <th></th>\n",
              "      <th></th>\n",
              "      <th></th>\n",
              "      <th></th>\n",
              "      <th></th>\n",
              "    </tr>\n",
              "  </thead>\n",
              "  <tbody>\n",
              "    <tr>\n",
              "      <th>taylor hall</th>\n",
              "      <td>OHL</td>\n",
              "      <td>DY</td>\n",
              "      <td>2010</td>\n",
              "      <td>0.7895</td>\n",
              "      <td>0.5789</td>\n",
              "      <td>1.8596</td>\n",
              "      <td>46.15</td>\n",
              "      <td>69.03</td>\n",
              "      <td>9.64</td>\n",
              "      <td>17.23</td>\n",
              "      <td>5.0101</td>\n",
              "      <td>18.84</td>\n",
              "    </tr>\n",
              "    <tr>\n",
              "      <th>tyler seguin</th>\n",
              "      <td>OHL</td>\n",
              "      <td>DY</td>\n",
              "      <td>2010</td>\n",
              "      <td>0.8730</td>\n",
              "      <td>0.5238</td>\n",
              "      <td>1.6825</td>\n",
              "      <td>54.55</td>\n",
              "      <td>57.66</td>\n",
              "      <td>8.74</td>\n",
              "      <td>20.92</td>\n",
              "      <td>4.0053</td>\n",
              "      <td>18.63</td>\n",
              "    </tr>\n",
              "    <tr>\n",
              "      <th>jeff skinner</th>\n",
              "      <td>OHL</td>\n",
              "      <td>DY</td>\n",
              "      <td>2010</td>\n",
              "      <td>0.5781</td>\n",
              "      <td>0.6094</td>\n",
              "      <td>1.4063</td>\n",
              "      <td>64.47</td>\n",
              "      <td>54.84</td>\n",
              "      <td>6.73</td>\n",
              "      <td>19.20</td>\n",
              "      <td>3.8081</td>\n",
              "      <td>18.33</td>\n",
              "    </tr>\n",
              "    <tr>\n",
              "      <th>jordan weal</th>\n",
              "      <td>WHL</td>\n",
              "      <td>DY</td>\n",
              "      <td>2010</td>\n",
              "      <td>0.5694</td>\n",
              "      <td>0.5000</td>\n",
              "      <td>1.4167</td>\n",
              "      <td>45.45</td>\n",
              "      <td>53.49</td>\n",
              "      <td>13.78</td>\n",
              "      <td>15.50</td>\n",
              "      <td>4.1405</td>\n",
              "      <td>18.42</td>\n",
              "    </tr>\n",
              "    <tr>\n",
              "      <th>greg mckegg</th>\n",
              "      <td>OHL</td>\n",
              "      <td>DY</td>\n",
              "      <td>2010</td>\n",
              "      <td>0.5821</td>\n",
              "      <td>0.3433</td>\n",
              "      <td>1.2687</td>\n",
              "      <td>56.45</td>\n",
              "      <td>55.91</td>\n",
              "      <td>10.20</td>\n",
              "      <td>16.74</td>\n",
              "      <td>3.5845</td>\n",
              "      <td>18.24</td>\n",
              "    </tr>\n",
              "  </tbody>\n",
              "</table>\n",
              "</div>"
            ],
            "text/plain": [
              "             league dy+/-  season  ...  etoi/gp  p1/e60  age sept 15\n",
              "name                               ...                              \n",
              "taylor hall     OHL    DY    2010  ...    17.23  5.0101        18.84\n",
              "tyler seguin    OHL    DY    2010  ...    20.92  4.0053        18.63\n",
              "jeff skinner    OHL    DY    2010  ...    19.20  3.8081        18.33\n",
              "jordan weal     WHL    DY    2010  ...    15.50  4.1405        18.42\n",
              "greg mckegg     OHL    DY    2010  ...    16.74  3.5845        18.24\n",
              "\n",
              "[5 rows x 12 columns]"
            ]
          },
          "metadata": {},
          "execution_count": 6
        }
      ]
    },
    {
      "cell_type": "code",
      "metadata": {
        "colab": {
          "base_uri": "https://localhost:8080/",
          "height": 303
        },
        "id": "registered-trader",
        "outputId": "c1dc20fb-0c8a-4605-fb3c-ed92c2bb842a"
      },
      "source": [
        "# Merge the dataframes\n",
        "data = pd.merge(prospects, point_shares, on=['name', 'league'])\n",
        "# Remove any duplicate values\n",
        "data = data[~data.index.duplicated(keep='first')]\n",
        "data.head()"
      ],
      "id": "registered-trader",
      "execution_count": null,
      "outputs": [
        {
          "output_type": "execute_result",
          "data": {
            "text/html": [
              "<div>\n",
              "<style scoped>\n",
              "    .dataframe tbody tr th:only-of-type {\n",
              "        vertical-align: middle;\n",
              "    }\n",
              "\n",
              "    .dataframe tbody tr th {\n",
              "        vertical-align: top;\n",
              "    }\n",
              "\n",
              "    .dataframe thead th {\n",
              "        text-align: right;\n",
              "    }\n",
              "</style>\n",
              "<table border=\"1\" class=\"dataframe\">\n",
              "  <thead>\n",
              "    <tr style=\"text-align: right;\">\n",
              "      <th></th>\n",
              "      <th>league</th>\n",
              "      <th>dy+/-</th>\n",
              "      <th>season</th>\n",
              "      <th>ev p1/gp</th>\n",
              "      <th>pp p1/gp</th>\n",
              "      <th>tp/gp</th>\n",
              "      <th>goals/p1</th>\n",
              "      <th>ev gf%</th>\n",
              "      <th>ev gf%rel</th>\n",
              "      <th>etoi/gp</th>\n",
              "      <th>p1/e60</th>\n",
              "      <th>age sept 15</th>\n",
              "      <th>height</th>\n",
              "      <th>weight</th>\n",
              "      <th>gp</th>\n",
              "      <th>ps</th>\n",
              "    </tr>\n",
              "    <tr>\n",
              "      <th>name</th>\n",
              "      <th></th>\n",
              "      <th></th>\n",
              "      <th></th>\n",
              "      <th></th>\n",
              "      <th></th>\n",
              "      <th></th>\n",
              "      <th></th>\n",
              "      <th></th>\n",
              "      <th></th>\n",
              "      <th></th>\n",
              "      <th></th>\n",
              "      <th></th>\n",
              "      <th></th>\n",
              "      <th></th>\n",
              "      <th></th>\n",
              "      <th></th>\n",
              "    </tr>\n",
              "  </thead>\n",
              "  <tbody>\n",
              "    <tr>\n",
              "      <th>taylor hall</th>\n",
              "      <td>OHL</td>\n",
              "      <td>DY</td>\n",
              "      <td>2010</td>\n",
              "      <td>0.7895</td>\n",
              "      <td>0.5789</td>\n",
              "      <td>1.8596</td>\n",
              "      <td>46.15</td>\n",
              "      <td>69.03</td>\n",
              "      <td>9.64</td>\n",
              "      <td>17.23</td>\n",
              "      <td>5.0101</td>\n",
              "      <td>18.84</td>\n",
              "      <td>72.75</td>\n",
              "      <td>186</td>\n",
              "      <td>658</td>\n",
              "      <td>65.7</td>\n",
              "    </tr>\n",
              "    <tr>\n",
              "      <th>tyler seguin</th>\n",
              "      <td>OHL</td>\n",
              "      <td>DY</td>\n",
              "      <td>2010</td>\n",
              "      <td>0.8730</td>\n",
              "      <td>0.5238</td>\n",
              "      <td>1.6825</td>\n",
              "      <td>54.55</td>\n",
              "      <td>57.66</td>\n",
              "      <td>8.74</td>\n",
              "      <td>20.92</td>\n",
              "      <td>4.0053</td>\n",
              "      <td>18.63</td>\n",
              "      <td>72.75</td>\n",
              "      <td>180</td>\n",
              "      <td>741</td>\n",
              "      <td>79.9</td>\n",
              "    </tr>\n",
              "    <tr>\n",
              "      <th>jeff skinner</th>\n",
              "      <td>OHL</td>\n",
              "      <td>DY</td>\n",
              "      <td>2010</td>\n",
              "      <td>0.5781</td>\n",
              "      <td>0.6094</td>\n",
              "      <td>1.4063</td>\n",
              "      <td>64.47</td>\n",
              "      <td>54.84</td>\n",
              "      <td>6.73</td>\n",
              "      <td>19.20</td>\n",
              "      <td>3.8081</td>\n",
              "      <td>18.33</td>\n",
              "      <td>70.00</td>\n",
              "      <td>197</td>\n",
              "      <td>748</td>\n",
              "      <td>54.9</td>\n",
              "    </tr>\n",
              "    <tr>\n",
              "      <th>jordan weal</th>\n",
              "      <td>WHL</td>\n",
              "      <td>DY</td>\n",
              "      <td>2010</td>\n",
              "      <td>0.5694</td>\n",
              "      <td>0.5000</td>\n",
              "      <td>1.4167</td>\n",
              "      <td>45.45</td>\n",
              "      <td>53.49</td>\n",
              "      <td>13.78</td>\n",
              "      <td>15.50</td>\n",
              "      <td>4.1405</td>\n",
              "      <td>18.42</td>\n",
              "      <td>68.50</td>\n",
              "      <td>156</td>\n",
              "      <td>218</td>\n",
              "      <td>4.9</td>\n",
              "    </tr>\n",
              "    <tr>\n",
              "      <th>tyler toffoli</th>\n",
              "      <td>OHL</td>\n",
              "      <td>DY</td>\n",
              "      <td>2010</td>\n",
              "      <td>0.7077</td>\n",
              "      <td>0.2615</td>\n",
              "      <td>1.2154</td>\n",
              "      <td>58.73</td>\n",
              "      <td>60.98</td>\n",
              "      <td>6.81</td>\n",
              "      <td>18.36</td>\n",
              "      <td>3.1674</td>\n",
              "      <td>18.39</td>\n",
              "      <td>72.00</td>\n",
              "      <td>183</td>\n",
              "      <td>555</td>\n",
              "      <td>43.0</td>\n",
              "    </tr>\n",
              "  </tbody>\n",
              "</table>\n",
              "</div>"
            ],
            "text/plain": [
              "              league dy+/-  season  ev p1/gp  ...  height  weight   gp    ps\n",
              "name                                          ...                           \n",
              "taylor hall      OHL    DY    2010    0.7895  ...   72.75     186  658  65.7\n",
              "tyler seguin     OHL    DY    2010    0.8730  ...   72.75     180  741  79.9\n",
              "jeff skinner     OHL    DY    2010    0.5781  ...   70.00     197  748  54.9\n",
              "jordan weal      WHL    DY    2010    0.5694  ...   68.50     156  218   4.9\n",
              "tyler toffoli    OHL    DY    2010    0.7077  ...   72.00     183  555  43.0\n",
              "\n",
              "[5 rows x 16 columns]"
            ]
          },
          "metadata": {},
          "execution_count": 7
        }
      ]
    },
    {
      "cell_type": "code",
      "metadata": {
        "colab": {
          "base_uri": "https://localhost:8080/",
          "height": 320
        },
        "id": "potential-repeat",
        "outputId": "11990237-808b-4ee2-e4a1-2438928ba44d"
      },
      "source": [
        "# Because there are different levels of scoring in different leagues, a goal\n",
        "# in one league may be less valuable than a goal in another league.\n",
        "# There are translation factors that we can use to account for these differences.\n",
        "# Here, we only standardize stats across the leagues related to scoring rates.\n",
        "# Stats related to goal differential are already standardized based on league.\n",
        "data['normal_factor'] = 0\n",
        "# Define the translation factors\n",
        "ohl_factor = 0.323\n",
        "data.loc[data.league == \"OHL\", \"normal_factor\"] = ohl_factor\n",
        "whl_factor = 0.302\n",
        "data.loc[data.league == \"WHL\", \"normal_factor\"] = whl_factor\n",
        "qmjhl_factor = 0.284\n",
        "data.loc[data.league == \"QMJHL\", \"normal_factor\"] = qmjhl_factor\n",
        "# Standardize the stats\n",
        "data[[\"ev p1/gp\", \"pp p1/gp\", \"tp/gp\", \"p1/e60\"]] = data[[\"ev p1/gp\", \"pp p1/gp\", \"tp/gp\", \"p1/e60\"]].multiply(data[\"normal_factor\"], axis=\"index\")\n",
        "# Remove columns we no longer need\n",
        "data = data.drop(columns=['normal_factor'])\n",
        "data.head()"
      ],
      "id": "potential-repeat",
      "execution_count": null,
      "outputs": [
        {
          "output_type": "execute_result",
          "data": {
            "text/html": [
              "<div>\n",
              "<style scoped>\n",
              "    .dataframe tbody tr th:only-of-type {\n",
              "        vertical-align: middle;\n",
              "    }\n",
              "\n",
              "    .dataframe tbody tr th {\n",
              "        vertical-align: top;\n",
              "    }\n",
              "\n",
              "    .dataframe thead th {\n",
              "        text-align: right;\n",
              "    }\n",
              "</style>\n",
              "<table border=\"1\" class=\"dataframe\">\n",
              "  <thead>\n",
              "    <tr style=\"text-align: right;\">\n",
              "      <th></th>\n",
              "      <th>league</th>\n",
              "      <th>dy+/-</th>\n",
              "      <th>season</th>\n",
              "      <th>ev p1/gp</th>\n",
              "      <th>pp p1/gp</th>\n",
              "      <th>tp/gp</th>\n",
              "      <th>goals/p1</th>\n",
              "      <th>ev gf%</th>\n",
              "      <th>ev gf%rel</th>\n",
              "      <th>etoi/gp</th>\n",
              "      <th>p1/e60</th>\n",
              "      <th>age sept 15</th>\n",
              "      <th>height</th>\n",
              "      <th>weight</th>\n",
              "      <th>gp</th>\n",
              "      <th>ps</th>\n",
              "    </tr>\n",
              "    <tr>\n",
              "      <th>name</th>\n",
              "      <th></th>\n",
              "      <th></th>\n",
              "      <th></th>\n",
              "      <th></th>\n",
              "      <th></th>\n",
              "      <th></th>\n",
              "      <th></th>\n",
              "      <th></th>\n",
              "      <th></th>\n",
              "      <th></th>\n",
              "      <th></th>\n",
              "      <th></th>\n",
              "      <th></th>\n",
              "      <th></th>\n",
              "      <th></th>\n",
              "      <th></th>\n",
              "    </tr>\n",
              "  </thead>\n",
              "  <tbody>\n",
              "    <tr>\n",
              "      <th>taylor hall</th>\n",
              "      <td>OHL</td>\n",
              "      <td>DY</td>\n",
              "      <td>2010</td>\n",
              "      <td>0.255009</td>\n",
              "      <td>0.186985</td>\n",
              "      <td>0.600651</td>\n",
              "      <td>46.15</td>\n",
              "      <td>69.03</td>\n",
              "      <td>9.64</td>\n",
              "      <td>17.23</td>\n",
              "      <td>1.618262</td>\n",
              "      <td>18.84</td>\n",
              "      <td>72.75</td>\n",
              "      <td>186</td>\n",
              "      <td>658</td>\n",
              "      <td>65.7</td>\n",
              "    </tr>\n",
              "    <tr>\n",
              "      <th>tyler seguin</th>\n",
              "      <td>OHL</td>\n",
              "      <td>DY</td>\n",
              "      <td>2010</td>\n",
              "      <td>0.281979</td>\n",
              "      <td>0.169187</td>\n",
              "      <td>0.543448</td>\n",
              "      <td>54.55</td>\n",
              "      <td>57.66</td>\n",
              "      <td>8.74</td>\n",
              "      <td>20.92</td>\n",
              "      <td>1.293712</td>\n",
              "      <td>18.63</td>\n",
              "      <td>72.75</td>\n",
              "      <td>180</td>\n",
              "      <td>741</td>\n",
              "      <td>79.9</td>\n",
              "    </tr>\n",
              "    <tr>\n",
              "      <th>jeff skinner</th>\n",
              "      <td>OHL</td>\n",
              "      <td>DY</td>\n",
              "      <td>2010</td>\n",
              "      <td>0.186726</td>\n",
              "      <td>0.196836</td>\n",
              "      <td>0.454235</td>\n",
              "      <td>64.47</td>\n",
              "      <td>54.84</td>\n",
              "      <td>6.73</td>\n",
              "      <td>19.20</td>\n",
              "      <td>1.230016</td>\n",
              "      <td>18.33</td>\n",
              "      <td>70.00</td>\n",
              "      <td>197</td>\n",
              "      <td>748</td>\n",
              "      <td>54.9</td>\n",
              "    </tr>\n",
              "    <tr>\n",
              "      <th>jordan weal</th>\n",
              "      <td>WHL</td>\n",
              "      <td>DY</td>\n",
              "      <td>2010</td>\n",
              "      <td>0.171959</td>\n",
              "      <td>0.151000</td>\n",
              "      <td>0.427843</td>\n",
              "      <td>45.45</td>\n",
              "      <td>53.49</td>\n",
              "      <td>13.78</td>\n",
              "      <td>15.50</td>\n",
              "      <td>1.250431</td>\n",
              "      <td>18.42</td>\n",
              "      <td>68.50</td>\n",
              "      <td>156</td>\n",
              "      <td>218</td>\n",
              "      <td>4.9</td>\n",
              "    </tr>\n",
              "    <tr>\n",
              "      <th>tyler toffoli</th>\n",
              "      <td>OHL</td>\n",
              "      <td>DY</td>\n",
              "      <td>2010</td>\n",
              "      <td>0.228587</td>\n",
              "      <td>0.084465</td>\n",
              "      <td>0.392574</td>\n",
              "      <td>58.73</td>\n",
              "      <td>60.98</td>\n",
              "      <td>6.81</td>\n",
              "      <td>18.36</td>\n",
              "      <td>1.023070</td>\n",
              "      <td>18.39</td>\n",
              "      <td>72.00</td>\n",
              "      <td>183</td>\n",
              "      <td>555</td>\n",
              "      <td>43.0</td>\n",
              "    </tr>\n",
              "  </tbody>\n",
              "</table>\n",
              "</div>"
            ],
            "text/plain": [
              "              league dy+/-  season  ev p1/gp  ...  height  weight   gp    ps\n",
              "name                                          ...                           \n",
              "taylor hall      OHL    DY    2010  0.255009  ...   72.75     186  658  65.7\n",
              "tyler seguin     OHL    DY    2010  0.281979  ...   72.75     180  741  79.9\n",
              "jeff skinner     OHL    DY    2010  0.186726  ...   70.00     197  748  54.9\n",
              "jordan weal      WHL    DY    2010  0.171959  ...   68.50     156  218   4.9\n",
              "tyler toffoli    OHL    DY    2010  0.228587  ...   72.00     183  555  43.0\n",
              "\n",
              "[5 rows x 16 columns]"
            ]
          },
          "metadata": {},
          "execution_count": 8
        }
      ]
    },
    {
      "cell_type": "code",
      "metadata": {
        "id": "filled-safety"
      },
      "source": [
        "# Create a metric that can be standardly applied to different draft years\n",
        "# Because point shares are cumulative, players drafted in 2010 have a \n",
        "# \"head start\" on players drafted in 2013. Making the target variable\n",
        "# point shares per game played in the NHL reduces this advantage.\n",
        "\n",
        "# Create the column\n",
        "data[\"ps/gp\"] = data[\"ps\"] / data[\"gp\"]\n",
        "# Account for div/0 errors\n",
        "data.loc[data.gp == 0, \"ps/gp\"] = 0"
      ],
      "id": "filled-safety",
      "execution_count": null,
      "outputs": []
    },
    {
      "cell_type": "code",
      "metadata": {
        "id": "unsigned-supply"
      },
      "source": [
        "from sklearn.preprocessing import MinMaxScaler\n",
        "\n",
        "# Normalize all features so that they are on similar scales\n",
        "# Any one feature should not skew the model based on the\n",
        "# magnitude of their absolute values\n",
        "\n",
        "# Features are normalized based how well each player performed\n",
        "# relative to the mean of a given feature\n",
        "\n",
        "# Rename age column\n",
        "data = data.rename(columns={\"age sept 15\": \"age\"})\n",
        "\n",
        "# Choose the features to normalize\n",
        "features_to_standardize = [\"ev p1/gp\", \"pp p1/gp\", \"tp/gp\", \"goals/p1\", \"ev gf%\", \n",
        "                         \"ev gf%rel\", \"etoi/gp\", \"p1/e60\", \"height\", \"weight\", \"age\"]\n",
        "scaler = MinMaxScaler()\n",
        "data[features_to_standardize] = scaler.fit_transform(data[features_to_standardize])"
      ],
      "id": "unsigned-supply",
      "execution_count": null,
      "outputs": []
    },
    {
      "cell_type": "code",
      "metadata": {
        "colab": {
          "base_uri": "https://localhost:8080/",
          "height": 235
        },
        "id": "sporting-salon",
        "outputId": "c6affc90-d421-4ba4-a5fa-b8aa3c2b1bd6"
      },
      "source": [
        "quantiles = data.quantile([.95, .90, .85, .80, .75, .70])\n",
        "quantiles"
      ],
      "id": "sporting-salon",
      "execution_count": null,
      "outputs": [
        {
          "output_type": "execute_result",
          "data": {
            "text/html": [
              "<div>\n",
              "<style scoped>\n",
              "    .dataframe tbody tr th:only-of-type {\n",
              "        vertical-align: middle;\n",
              "    }\n",
              "\n",
              "    .dataframe tbody tr th {\n",
              "        vertical-align: top;\n",
              "    }\n",
              "\n",
              "    .dataframe thead th {\n",
              "        text-align: right;\n",
              "    }\n",
              "</style>\n",
              "<table border=\"1\" class=\"dataframe\">\n",
              "  <thead>\n",
              "    <tr style=\"text-align: right;\">\n",
              "      <th></th>\n",
              "      <th>season</th>\n",
              "      <th>ev p1/gp</th>\n",
              "      <th>pp p1/gp</th>\n",
              "      <th>tp/gp</th>\n",
              "      <th>goals/p1</th>\n",
              "      <th>ev gf%</th>\n",
              "      <th>ev gf%rel</th>\n",
              "      <th>etoi/gp</th>\n",
              "      <th>p1/e60</th>\n",
              "      <th>age</th>\n",
              "      <th>height</th>\n",
              "      <th>weight</th>\n",
              "      <th>gp</th>\n",
              "      <th>ps</th>\n",
              "      <th>ps/gp</th>\n",
              "    </tr>\n",
              "  </thead>\n",
              "  <tbody>\n",
              "    <tr>\n",
              "      <th>0.95</th>\n",
              "      <td>2013.0</td>\n",
              "      <td>0.706757</td>\n",
              "      <td>0.532875</td>\n",
              "      <td>0.620519</td>\n",
              "      <td>0.734175</td>\n",
              "      <td>0.807804</td>\n",
              "      <td>0.705255</td>\n",
              "      <td>0.778117</td>\n",
              "      <td>0.627477</td>\n",
              "      <td>0.9400</td>\n",
              "      <td>0.782609</td>\n",
              "      <td>0.642105</td>\n",
              "      <td>523.00</td>\n",
              "      <td>30.175</td>\n",
              "      <td>0.070737</td>\n",
              "    </tr>\n",
              "    <tr>\n",
              "      <th>0.90</th>\n",
              "      <td>2013.0</td>\n",
              "      <td>0.606415</td>\n",
              "      <td>0.451066</td>\n",
              "      <td>0.529334</td>\n",
              "      <td>0.695400</td>\n",
              "      <td>0.761008</td>\n",
              "      <td>0.659231</td>\n",
              "      <td>0.696979</td>\n",
              "      <td>0.584921</td>\n",
              "      <td>0.8900</td>\n",
              "      <td>0.695652</td>\n",
              "      <td>0.594737</td>\n",
              "      <td>374.00</td>\n",
              "      <td>17.600</td>\n",
              "      <td>0.051358</td>\n",
              "    </tr>\n",
              "    <tr>\n",
              "      <th>0.85</th>\n",
              "      <td>2013.0</td>\n",
              "      <td>0.539920</td>\n",
              "      <td>0.388233</td>\n",
              "      <td>0.480781</td>\n",
              "      <td>0.666700</td>\n",
              "      <td>0.708731</td>\n",
              "      <td>0.638776</td>\n",
              "      <td>0.623393</td>\n",
              "      <td>0.518727</td>\n",
              "      <td>0.8250</td>\n",
              "      <td>0.652174</td>\n",
              "      <td>0.557895</td>\n",
              "      <td>279.00</td>\n",
              "      <td>8.275</td>\n",
              "      <td>0.034344</td>\n",
              "    </tr>\n",
              "    <tr>\n",
              "      <th>0.80</th>\n",
              "      <td>2013.0</td>\n",
              "      <td>0.490951</td>\n",
              "      <td>0.351657</td>\n",
              "      <td>0.443502</td>\n",
              "      <td>0.638900</td>\n",
              "      <td>0.677722</td>\n",
              "      <td>0.612943</td>\n",
              "      <td>0.589974</td>\n",
              "      <td>0.485200</td>\n",
              "      <td>0.7500</td>\n",
              "      <td>0.608696</td>\n",
              "      <td>0.526316</td>\n",
              "      <td>170.00</td>\n",
              "      <td>3.400</td>\n",
              "      <td>0.023729</td>\n",
              "    </tr>\n",
              "    <tr>\n",
              "      <th>0.75</th>\n",
              "      <td>2012.0</td>\n",
              "      <td>0.455699</td>\n",
              "      <td>0.325764</td>\n",
              "      <td>0.403208</td>\n",
              "      <td>0.609575</td>\n",
              "      <td>0.651771</td>\n",
              "      <td>0.597029</td>\n",
              "      <td>0.561857</td>\n",
              "      <td>0.453399</td>\n",
              "      <td>0.6825</td>\n",
              "      <td>0.565217</td>\n",
              "      <td>0.494737</td>\n",
              "      <td>72.75</td>\n",
              "      <td>0.925</td>\n",
              "      <td>0.014387</td>\n",
              "    </tr>\n",
              "    <tr>\n",
              "      <th>0.70</th>\n",
              "      <td>2012.0</td>\n",
              "      <td>0.423025</td>\n",
              "      <td>0.291762</td>\n",
              "      <td>0.374749</td>\n",
              "      <td>0.587750</td>\n",
              "      <td>0.627693</td>\n",
              "      <td>0.574943</td>\n",
              "      <td>0.526992</td>\n",
              "      <td>0.414694</td>\n",
              "      <td>0.6600</td>\n",
              "      <td>0.565217</td>\n",
              "      <td>0.473684</td>\n",
              "      <td>14.00</td>\n",
              "      <td>0.000</td>\n",
              "      <td>0.000000</td>\n",
              "    </tr>\n",
              "  </tbody>\n",
              "</table>\n",
              "</div>"
            ],
            "text/plain": [
              "      season  ev p1/gp  pp p1/gp     tp/gp  ...    weight      gp      ps     ps/gp\n",
              "0.95  2013.0  0.706757  0.532875  0.620519  ...  0.642105  523.00  30.175  0.070737\n",
              "0.90  2013.0  0.606415  0.451066  0.529334  ...  0.594737  374.00  17.600  0.051358\n",
              "0.85  2013.0  0.539920  0.388233  0.480781  ...  0.557895  279.00   8.275  0.034344\n",
              "0.80  2013.0  0.490951  0.351657  0.443502  ...  0.526316  170.00   3.400  0.023729\n",
              "0.75  2012.0  0.455699  0.325764  0.403208  ...  0.494737   72.75   0.925  0.014387\n",
              "0.70  2012.0  0.423025  0.291762  0.374749  ...  0.473684   14.00   0.000  0.000000\n",
              "\n",
              "[6 rows x 15 columns]"
            ]
          },
          "metadata": {},
          "execution_count": 11
        }
      ]
    },
    {
      "cell_type": "code",
      "metadata": {
        "id": "collectible-protest"
      },
      "source": [
        "# A \"star\" player will be defined as someone who is in the 95th percentile or better in point shares per games played.\n",
        "# To account for longevity, \"star\" players must also be in the 80th percentile of games played. The games played threshold \n",
        "# is weaker than it is for point shares per games played to account for differences in draft years. Younger players\n",
        "# won't have had the opporunity to play as many games as older players. A \"star\" will be coded in the Type column of data as 2.\n",
        "\n",
        "data.loc[(data[\"ps/gp\"] >= quantiles.loc[0.95, 'ps/gp']) & (data[\"gp\"] >= quantiles.loc[0.80, 'gp']), 'Type'] = 2\n",
        "\n",
        "# A \"good\" player will be defined as someone who is between the 75th and 90th percentile in point shares per games played.\n",
        "# As well, \"good\" players must also be in the 75th percentile of games played. A \"good\" player will be coded as 1.\n",
        "# Players 1 FULL SEASON\n",
        "\n",
        "data.loc[(data[\"ps/gp\"] < quantiles.loc[0.95, 'ps/gp']) & (data[\"ps/gp\"] >= quantiles.loc[0.75, 'ps/gp']) & \n",
        "         (data[\"gp\"] >= quantiles.loc[0.75, 'gp']), 'Type'] = 1\n",
        "\n",
        "# A \"bust\" will be defined as someone who is does not meet any of the previous criteria. For the purposes of this model,\n",
        "# these players are considered unproductive draft picks. A \"bust\" will be coded as 0.\n",
        "\n",
        "data.loc[data['Type'].isnull(), 'Type'] = 0"
      ],
      "id": "collectible-protest",
      "execution_count": null,
      "outputs": []
    },
    {
      "cell_type": "code",
      "metadata": {
        "colab": {
          "base_uri": "https://localhost:8080/"
        },
        "id": "undefined-permission",
        "outputId": "116ff6d2-e83b-46a9-b1ef-59e24ab9c1d3"
      },
      "source": [
        "data.Type.value_counts()"
      ],
      "id": "undefined-permission",
      "execution_count": null,
      "outputs": [
        {
          "output_type": "execute_result",
          "data": {
            "text/plain": [
              "0.0    328\n",
              "1.0     70\n",
              "2.0     18\n",
              "Name: Type, dtype: int64"
            ]
          },
          "metadata": {},
          "execution_count": 13
        }
      ]
    },
    {
      "cell_type": "code",
      "metadata": {
        "id": "embedded-means"
      },
      "source": [
        "# Remove columns we no longer need\n",
        "data = data.drop(columns=[\"gp\", \"ps\", \"ps/gp\"])"
      ],
      "id": "embedded-means",
      "execution_count": null,
      "outputs": []
    },
    {
      "cell_type": "code",
      "metadata": {
        "colab": {
          "base_uri": "https://localhost:8080/",
          "height": 450
        },
        "id": "supported-twenty",
        "outputId": "a3609926-5041-47b9-f2f3-466146f75587"
      },
      "source": [
        "data"
      ],
      "id": "supported-twenty",
      "execution_count": null,
      "outputs": [
        {
          "output_type": "execute_result",
          "data": {
            "text/html": [
              "<div>\n",
              "<style scoped>\n",
              "    .dataframe tbody tr th:only-of-type {\n",
              "        vertical-align: middle;\n",
              "    }\n",
              "\n",
              "    .dataframe tbody tr th {\n",
              "        vertical-align: top;\n",
              "    }\n",
              "\n",
              "    .dataframe thead th {\n",
              "        text-align: right;\n",
              "    }\n",
              "</style>\n",
              "<table border=\"1\" class=\"dataframe\">\n",
              "  <thead>\n",
              "    <tr style=\"text-align: right;\">\n",
              "      <th></th>\n",
              "      <th>league</th>\n",
              "      <th>dy+/-</th>\n",
              "      <th>season</th>\n",
              "      <th>ev p1/gp</th>\n",
              "      <th>pp p1/gp</th>\n",
              "      <th>tp/gp</th>\n",
              "      <th>goals/p1</th>\n",
              "      <th>ev gf%</th>\n",
              "      <th>ev gf%rel</th>\n",
              "      <th>etoi/gp</th>\n",
              "      <th>p1/e60</th>\n",
              "      <th>age</th>\n",
              "      <th>height</th>\n",
              "      <th>weight</th>\n",
              "      <th>Type</th>\n",
              "    </tr>\n",
              "    <tr>\n",
              "      <th>name</th>\n",
              "      <th></th>\n",
              "      <th></th>\n",
              "      <th></th>\n",
              "      <th></th>\n",
              "      <th></th>\n",
              "      <th></th>\n",
              "      <th></th>\n",
              "      <th></th>\n",
              "      <th></th>\n",
              "      <th></th>\n",
              "      <th></th>\n",
              "      <th></th>\n",
              "      <th></th>\n",
              "      <th></th>\n",
              "      <th></th>\n",
              "    </tr>\n",
              "  </thead>\n",
              "  <tbody>\n",
              "    <tr>\n",
              "      <th>taylor hall</th>\n",
              "      <td>OHL</td>\n",
              "      <td>DY</td>\n",
              "      <td>2010</td>\n",
              "      <td>0.904353</td>\n",
              "      <td>0.949951</td>\n",
              "      <td>0.986609</td>\n",
              "      <td>0.4615</td>\n",
              "      <td>0.850478</td>\n",
              "      <td>0.654382</td>\n",
              "      <td>0.494859</td>\n",
              "      <td>1.000000</td>\n",
              "      <td>0.84</td>\n",
              "      <td>0.456522</td>\n",
              "      <td>0.378947</td>\n",
              "      <td>2.0</td>\n",
              "    </tr>\n",
              "    <tr>\n",
              "      <th>tyler seguin</th>\n",
              "      <td>OHL</td>\n",
              "      <td>DY</td>\n",
              "      <td>2010</td>\n",
              "      <td>1.000000</td>\n",
              "      <td>0.859534</td>\n",
              "      <td>0.890046</td>\n",
              "      <td>0.5455</td>\n",
              "      <td>0.637437</td>\n",
              "      <td>0.638512</td>\n",
              "      <td>0.732005</td>\n",
              "      <td>0.799445</td>\n",
              "      <td>0.63</td>\n",
              "      <td>0.456522</td>\n",
              "      <td>0.315789</td>\n",
              "      <td>2.0</td>\n",
              "    </tr>\n",
              "    <tr>\n",
              "      <th>jeff skinner</th>\n",
              "      <td>OHL</td>\n",
              "      <td>DY</td>\n",
              "      <td>2010</td>\n",
              "      <td>0.662199</td>\n",
              "      <td>1.000000</td>\n",
              "      <td>0.739450</td>\n",
              "      <td>0.6447</td>\n",
              "      <td>0.584598</td>\n",
              "      <td>0.603068</td>\n",
              "      <td>0.621465</td>\n",
              "      <td>0.760085</td>\n",
              "      <td>0.33</td>\n",
              "      <td>0.217391</td>\n",
              "      <td>0.494737</td>\n",
              "      <td>2.0</td>\n",
              "    </tr>\n",
              "    <tr>\n",
              "      <th>jordan weal</th>\n",
              "      <td>WHL</td>\n",
              "      <td>DY</td>\n",
              "      <td>2010</td>\n",
              "      <td>0.609828</td>\n",
              "      <td>0.767135</td>\n",
              "      <td>0.694900</td>\n",
              "      <td>0.4545</td>\n",
              "      <td>0.559303</td>\n",
              "      <td>0.727385</td>\n",
              "      <td>0.383676</td>\n",
              "      <td>0.772700</td>\n",
              "      <td>0.42</td>\n",
              "      <td>0.086957</td>\n",
              "      <td>0.063158</td>\n",
              "      <td>1.0</td>\n",
              "    </tr>\n",
              "    <tr>\n",
              "      <th>tyler toffoli</th>\n",
              "      <td>OHL</td>\n",
              "      <td>DY</td>\n",
              "      <td>2010</td>\n",
              "      <td>0.810653</td>\n",
              "      <td>0.429111</td>\n",
              "      <td>0.635363</td>\n",
              "      <td>0.5873</td>\n",
              "      <td>0.699644</td>\n",
              "      <td>0.604479</td>\n",
              "      <td>0.567481</td>\n",
              "      <td>0.632203</td>\n",
              "      <td>0.39</td>\n",
              "      <td>0.391304</td>\n",
              "      <td>0.347368</td>\n",
              "      <td>2.0</td>\n",
              "    </tr>\n",
              "    <tr>\n",
              "      <th>...</th>\n",
              "      <td>...</td>\n",
              "      <td>...</td>\n",
              "      <td>...</td>\n",
              "      <td>...</td>\n",
              "      <td>...</td>\n",
              "      <td>...</td>\n",
              "      <td>...</td>\n",
              "      <td>...</td>\n",
              "      <td>...</td>\n",
              "      <td>...</td>\n",
              "      <td>...</td>\n",
              "      <td>...</td>\n",
              "      <td>...</td>\n",
              "      <td>...</td>\n",
              "      <td>...</td>\n",
              "    </tr>\n",
              "    <tr>\n",
              "      <th>jacob sweeney</th>\n",
              "      <td>QMJHL</td>\n",
              "      <td>DY</td>\n",
              "      <td>2013</td>\n",
              "      <td>0.047941</td>\n",
              "      <td>0.000000</td>\n",
              "      <td>0.025937</td>\n",
              "      <td>0.6667</td>\n",
              "      <td>0.627693</td>\n",
              "      <td>0.448069</td>\n",
              "      <td>0.375964</td>\n",
              "      <td>0.032607</td>\n",
              "      <td>0.54</td>\n",
              "      <td>0.695652</td>\n",
              "      <td>0.610526</td>\n",
              "      <td>0.0</td>\n",
              "    </tr>\n",
              "    <tr>\n",
              "      <th>taylor green</th>\n",
              "      <td>WHL</td>\n",
              "      <td>DY</td>\n",
              "      <td>2013</td>\n",
              "      <td>0.032987</td>\n",
              "      <td>0.023628</td>\n",
              "      <td>0.027580</td>\n",
              "      <td>0.6667</td>\n",
              "      <td>0.092374</td>\n",
              "      <td>0.246517</td>\n",
              "      <td>0.237147</td>\n",
              "      <td>0.039097</td>\n",
              "      <td>0.68</td>\n",
              "      <td>0.869565</td>\n",
              "      <td>0.810526</td>\n",
              "      <td>0.0</td>\n",
              "    </tr>\n",
              "    <tr>\n",
              "      <th>kayle doetzel</th>\n",
              "      <td>WHL</td>\n",
              "      <td>DY</td>\n",
              "      <td>2013</td>\n",
              "      <td>0.043697</td>\n",
              "      <td>0.000000</td>\n",
              "      <td>0.035074</td>\n",
              "      <td>0.0000</td>\n",
              "      <td>0.419524</td>\n",
              "      <td>0.356551</td>\n",
              "      <td>0.460154</td>\n",
              "      <td>0.027377</td>\n",
              "      <td>0.24</td>\n",
              "      <td>0.586957</td>\n",
              "      <td>0.421053</td>\n",
              "      <td>0.0</td>\n",
              "    </tr>\n",
              "    <tr>\n",
              "      <th>jared hauf</th>\n",
              "      <td>WHL</td>\n",
              "      <td>DY</td>\n",
              "      <td>2013</td>\n",
              "      <td>0.014887</td>\n",
              "      <td>0.000000</td>\n",
              "      <td>0.050572</td>\n",
              "      <td>0.0000</td>\n",
              "      <td>0.288926</td>\n",
              "      <td>0.450009</td>\n",
              "      <td>0.554627</td>\n",
              "      <td>0.017132</td>\n",
              "      <td>0.53</td>\n",
              "      <td>0.804348</td>\n",
              "      <td>0.652632</td>\n",
              "      <td>0.0</td>\n",
              "    </tr>\n",
              "    <tr>\n",
              "      <th>keegan kanzig</th>\n",
              "      <td>WHL</td>\n",
              "      <td>DY</td>\n",
              "      <td>2013</td>\n",
              "      <td>0.000000</td>\n",
              "      <td>0.000000</td>\n",
              "      <td>0.023654</td>\n",
              "      <td>0.0000</td>\n",
              "      <td>0.312160</td>\n",
              "      <td>0.391289</td>\n",
              "      <td>0.290488</td>\n",
              "      <td>0.000000</td>\n",
              "      <td>0.55</td>\n",
              "      <td>1.000000</td>\n",
              "      <td>0.957895</td>\n",
              "      <td>0.0</td>\n",
              "    </tr>\n",
              "  </tbody>\n",
              "</table>\n",
              "<p>416 rows × 15 columns</p>\n",
              "</div>"
            ],
            "text/plain": [
              "              league dy+/-  season  ev p1/gp  ...   age    height    weight  Type\n",
              "name                                          ...                                \n",
              "taylor hall      OHL    DY    2010  0.904353  ...  0.84  0.456522  0.378947   2.0\n",
              "tyler seguin     OHL    DY    2010  1.000000  ...  0.63  0.456522  0.315789   2.0\n",
              "jeff skinner     OHL    DY    2010  0.662199  ...  0.33  0.217391  0.494737   2.0\n",
              "jordan weal      WHL    DY    2010  0.609828  ...  0.42  0.086957  0.063158   1.0\n",
              "tyler toffoli    OHL    DY    2010  0.810653  ...  0.39  0.391304  0.347368   2.0\n",
              "...              ...   ...     ...       ...  ...   ...       ...       ...   ...\n",
              "jacob sweeney  QMJHL    DY    2013  0.047941  ...  0.54  0.695652  0.610526   0.0\n",
              "taylor green     WHL    DY    2013  0.032987  ...  0.68  0.869565  0.810526   0.0\n",
              "kayle doetzel    WHL    DY    2013  0.043697  ...  0.24  0.586957  0.421053   0.0\n",
              "jared hauf       WHL    DY    2013  0.014887  ...  0.53  0.804348  0.652632   0.0\n",
              "keegan kanzig    WHL    DY    2013  0.000000  ...  0.55  1.000000  0.957895   0.0\n",
              "\n",
              "[416 rows x 15 columns]"
            ]
          },
          "metadata": {},
          "execution_count": 15
        }
      ]
    },
    {
      "cell_type": "code",
      "metadata": {
        "id": "thousand-expansion"
      },
      "source": [
        "from sklearn.model_selection import train_test_split"
      ],
      "id": "thousand-expansion",
      "execution_count": null,
      "outputs": []
    },
    {
      "cell_type": "code",
      "metadata": {
        "colab": {
          "base_uri": "https://localhost:8080/"
        },
        "id": "pretty-coating",
        "outputId": "5f3a407c-0e04-4b9a-e11a-61058a40df3c"
      },
      "source": [
        "data.columns"
      ],
      "id": "pretty-coating",
      "execution_count": null,
      "outputs": [
        {
          "output_type": "execute_result",
          "data": {
            "text/plain": [
              "Index(['league', 'dy+/-', 'season', 'ev p1/gp', 'pp p1/gp', 'tp/gp',\n",
              "       'goals/p1', 'ev gf%', 'ev gf%rel', 'etoi/gp', 'p1/e60', 'age', 'height',\n",
              "       'weight', 'Type'],\n",
              "      dtype='object')"
            ]
          },
          "metadata": {},
          "execution_count": 17
        }
      ]
    },
    {
      "cell_type": "code",
      "metadata": {
        "id": "artistic-father"
      },
      "source": [
        "y_data = data.loc[:,['Type']]\n",
        "X_data = data.drop(columns=['league','dy+/-', 'season','Type'])"
      ],
      "id": "artistic-father",
      "execution_count": null,
      "outputs": []
    },
    {
      "cell_type": "code",
      "metadata": {
        "colab": {
          "base_uri": "https://localhost:8080/",
          "height": 450
        },
        "id": "convertible-region",
        "outputId": "f5ddfdf5-4411-43ae-a5a8-3e0153fe9380"
      },
      "source": [
        "X_data"
      ],
      "id": "convertible-region",
      "execution_count": null,
      "outputs": [
        {
          "output_type": "execute_result",
          "data": {
            "text/html": [
              "<div>\n",
              "<style scoped>\n",
              "    .dataframe tbody tr th:only-of-type {\n",
              "        vertical-align: middle;\n",
              "    }\n",
              "\n",
              "    .dataframe tbody tr th {\n",
              "        vertical-align: top;\n",
              "    }\n",
              "\n",
              "    .dataframe thead th {\n",
              "        text-align: right;\n",
              "    }\n",
              "</style>\n",
              "<table border=\"1\" class=\"dataframe\">\n",
              "  <thead>\n",
              "    <tr style=\"text-align: right;\">\n",
              "      <th></th>\n",
              "      <th>ev p1/gp</th>\n",
              "      <th>pp p1/gp</th>\n",
              "      <th>tp/gp</th>\n",
              "      <th>goals/p1</th>\n",
              "      <th>ev gf%</th>\n",
              "      <th>ev gf%rel</th>\n",
              "      <th>etoi/gp</th>\n",
              "      <th>p1/e60</th>\n",
              "      <th>age</th>\n",
              "      <th>height</th>\n",
              "      <th>weight</th>\n",
              "    </tr>\n",
              "    <tr>\n",
              "      <th>name</th>\n",
              "      <th></th>\n",
              "      <th></th>\n",
              "      <th></th>\n",
              "      <th></th>\n",
              "      <th></th>\n",
              "      <th></th>\n",
              "      <th></th>\n",
              "      <th></th>\n",
              "      <th></th>\n",
              "      <th></th>\n",
              "      <th></th>\n",
              "    </tr>\n",
              "  </thead>\n",
              "  <tbody>\n",
              "    <tr>\n",
              "      <th>taylor hall</th>\n",
              "      <td>0.904353</td>\n",
              "      <td>0.949951</td>\n",
              "      <td>0.986609</td>\n",
              "      <td>0.4615</td>\n",
              "      <td>0.850478</td>\n",
              "      <td>0.654382</td>\n",
              "      <td>0.494859</td>\n",
              "      <td>1.000000</td>\n",
              "      <td>0.84</td>\n",
              "      <td>0.456522</td>\n",
              "      <td>0.378947</td>\n",
              "    </tr>\n",
              "    <tr>\n",
              "      <th>tyler seguin</th>\n",
              "      <td>1.000000</td>\n",
              "      <td>0.859534</td>\n",
              "      <td>0.890046</td>\n",
              "      <td>0.5455</td>\n",
              "      <td>0.637437</td>\n",
              "      <td>0.638512</td>\n",
              "      <td>0.732005</td>\n",
              "      <td>0.799445</td>\n",
              "      <td>0.63</td>\n",
              "      <td>0.456522</td>\n",
              "      <td>0.315789</td>\n",
              "    </tr>\n",
              "    <tr>\n",
              "      <th>jeff skinner</th>\n",
              "      <td>0.662199</td>\n",
              "      <td>1.000000</td>\n",
              "      <td>0.739450</td>\n",
              "      <td>0.6447</td>\n",
              "      <td>0.584598</td>\n",
              "      <td>0.603068</td>\n",
              "      <td>0.621465</td>\n",
              "      <td>0.760085</td>\n",
              "      <td>0.33</td>\n",
              "      <td>0.217391</td>\n",
              "      <td>0.494737</td>\n",
              "    </tr>\n",
              "    <tr>\n",
              "      <th>jordan weal</th>\n",
              "      <td>0.609828</td>\n",
              "      <td>0.767135</td>\n",
              "      <td>0.694900</td>\n",
              "      <td>0.4545</td>\n",
              "      <td>0.559303</td>\n",
              "      <td>0.727385</td>\n",
              "      <td>0.383676</td>\n",
              "      <td>0.772700</td>\n",
              "      <td>0.42</td>\n",
              "      <td>0.086957</td>\n",
              "      <td>0.063158</td>\n",
              "    </tr>\n",
              "    <tr>\n",
              "      <th>tyler toffoli</th>\n",
              "      <td>0.810653</td>\n",
              "      <td>0.429111</td>\n",
              "      <td>0.635363</td>\n",
              "      <td>0.5873</td>\n",
              "      <td>0.699644</td>\n",
              "      <td>0.604479</td>\n",
              "      <td>0.567481</td>\n",
              "      <td>0.632203</td>\n",
              "      <td>0.39</td>\n",
              "      <td>0.391304</td>\n",
              "      <td>0.347368</td>\n",
              "    </tr>\n",
              "    <tr>\n",
              "      <th>...</th>\n",
              "      <td>...</td>\n",
              "      <td>...</td>\n",
              "      <td>...</td>\n",
              "      <td>...</td>\n",
              "      <td>...</td>\n",
              "      <td>...</td>\n",
              "      <td>...</td>\n",
              "      <td>...</td>\n",
              "      <td>...</td>\n",
              "      <td>...</td>\n",
              "      <td>...</td>\n",
              "    </tr>\n",
              "    <tr>\n",
              "      <th>jacob sweeney</th>\n",
              "      <td>0.047941</td>\n",
              "      <td>0.000000</td>\n",
              "      <td>0.025937</td>\n",
              "      <td>0.6667</td>\n",
              "      <td>0.627693</td>\n",
              "      <td>0.448069</td>\n",
              "      <td>0.375964</td>\n",
              "      <td>0.032607</td>\n",
              "      <td>0.54</td>\n",
              "      <td>0.695652</td>\n",
              "      <td>0.610526</td>\n",
              "    </tr>\n",
              "    <tr>\n",
              "      <th>taylor green</th>\n",
              "      <td>0.032987</td>\n",
              "      <td>0.023628</td>\n",
              "      <td>0.027580</td>\n",
              "      <td>0.6667</td>\n",
              "      <td>0.092374</td>\n",
              "      <td>0.246517</td>\n",
              "      <td>0.237147</td>\n",
              "      <td>0.039097</td>\n",
              "      <td>0.68</td>\n",
              "      <td>0.869565</td>\n",
              "      <td>0.810526</td>\n",
              "    </tr>\n",
              "    <tr>\n",
              "      <th>kayle doetzel</th>\n",
              "      <td>0.043697</td>\n",
              "      <td>0.000000</td>\n",
              "      <td>0.035074</td>\n",
              "      <td>0.0000</td>\n",
              "      <td>0.419524</td>\n",
              "      <td>0.356551</td>\n",
              "      <td>0.460154</td>\n",
              "      <td>0.027377</td>\n",
              "      <td>0.24</td>\n",
              "      <td>0.586957</td>\n",
              "      <td>0.421053</td>\n",
              "    </tr>\n",
              "    <tr>\n",
              "      <th>jared hauf</th>\n",
              "      <td>0.014887</td>\n",
              "      <td>0.000000</td>\n",
              "      <td>0.050572</td>\n",
              "      <td>0.0000</td>\n",
              "      <td>0.288926</td>\n",
              "      <td>0.450009</td>\n",
              "      <td>0.554627</td>\n",
              "      <td>0.017132</td>\n",
              "      <td>0.53</td>\n",
              "      <td>0.804348</td>\n",
              "      <td>0.652632</td>\n",
              "    </tr>\n",
              "    <tr>\n",
              "      <th>keegan kanzig</th>\n",
              "      <td>0.000000</td>\n",
              "      <td>0.000000</td>\n",
              "      <td>0.023654</td>\n",
              "      <td>0.0000</td>\n",
              "      <td>0.312160</td>\n",
              "      <td>0.391289</td>\n",
              "      <td>0.290488</td>\n",
              "      <td>0.000000</td>\n",
              "      <td>0.55</td>\n",
              "      <td>1.000000</td>\n",
              "      <td>0.957895</td>\n",
              "    </tr>\n",
              "  </tbody>\n",
              "</table>\n",
              "<p>416 rows × 11 columns</p>\n",
              "</div>"
            ],
            "text/plain": [
              "               ev p1/gp  pp p1/gp     tp/gp  ...   age    height    weight\n",
              "name                                         ...                          \n",
              "taylor hall    0.904353  0.949951  0.986609  ...  0.84  0.456522  0.378947\n",
              "tyler seguin   1.000000  0.859534  0.890046  ...  0.63  0.456522  0.315789\n",
              "jeff skinner   0.662199  1.000000  0.739450  ...  0.33  0.217391  0.494737\n",
              "jordan weal    0.609828  0.767135  0.694900  ...  0.42  0.086957  0.063158\n",
              "tyler toffoli  0.810653  0.429111  0.635363  ...  0.39  0.391304  0.347368\n",
              "...                 ...       ...       ...  ...   ...       ...       ...\n",
              "jacob sweeney  0.047941  0.000000  0.025937  ...  0.54  0.695652  0.610526\n",
              "taylor green   0.032987  0.023628  0.027580  ...  0.68  0.869565  0.810526\n",
              "kayle doetzel  0.043697  0.000000  0.035074  ...  0.24  0.586957  0.421053\n",
              "jared hauf     0.014887  0.000000  0.050572  ...  0.53  0.804348  0.652632\n",
              "keegan kanzig  0.000000  0.000000  0.023654  ...  0.55  1.000000  0.957895\n",
              "\n",
              "[416 rows x 11 columns]"
            ]
          },
          "metadata": {},
          "execution_count": 19
        }
      ]
    },
    {
      "cell_type": "code",
      "metadata": {
        "id": "documentary-philosophy"
      },
      "source": [
        "X_train, X_test, y_train, y_test = train_test_split(X_data, y_data, test_size=0.2,random_state=12345)"
      ],
      "id": "documentary-philosophy",
      "execution_count": null,
      "outputs": []
    },
    {
      "cell_type": "markdown",
      "metadata": {
        "id": "statewide-butter"
      },
      "source": [
        "***Model 1: Logistic Regression***"
      ],
      "id": "statewide-butter"
    },
    {
      "cell_type": "code",
      "metadata": {
        "colab": {
          "base_uri": "https://localhost:8080/",
          "height": 34
        },
        "id": "current-suite",
        "outputId": "4724d624-ee14-439c-9349-fd11ce2a8fb8"
      },
      "source": [
        "# Model 1: Logistic Regression\n",
        "from sklearn.linear_model import LogisticRegression\n",
        "\n",
        "lr_fit = LogisticRegression(max_iter=10000).fit(X_train, y_train.values.ravel())\n",
        "\n",
        "# get model prediction\n",
        "y_pred =lr_fit.predict(X_test)\n",
        "\n",
        "#calculating accuracy\n",
        "from sklearn.metrics import accuracy_score\n",
        "display(accuracy_score(y_test, y_pred))"
      ],
      "id": "current-suite",
      "execution_count": null,
      "outputs": [
        {
          "output_type": "display_data",
          "data": {
            "text/plain": [
              "0.7976190476190477"
            ]
          },
          "metadata": {}
        }
      ]
    },
    {
      "cell_type": "code",
      "metadata": {
        "colab": {
          "base_uri": "https://localhost:8080/"
        },
        "id": "framed-captain",
        "outputId": "6d88e921-5157-40df-b92c-2447574f9e8c"
      },
      "source": [
        "lr_fit.coef_"
      ],
      "id": "framed-captain",
      "execution_count": null,
      "outputs": [
        {
          "output_type": "execute_result",
          "data": {
            "text/plain": [
              "array([[-0.78690494, -1.28155894, -1.51884529,  0.34702878, -1.11442279,\n",
              "         0.15578269, -1.22407498, -1.02355884,  0.87344765, -0.50097709,\n",
              "         0.03981788],\n",
              "       [ 0.36340109, -0.1646684 ,  0.55044269, -0.17930934,  0.50053408,\n",
              "        -0.36947821,  0.44985393,  0.50810881, -0.41632906,  0.2065283 ,\n",
              "        -0.16292154],\n",
              "       [ 0.42350386,  1.44622734,  0.9684026 , -0.16771945,  0.61388871,\n",
              "         0.21369553,  0.77422105,  0.51545003, -0.45711859,  0.29444879,\n",
              "         0.12310365]])"
            ]
          },
          "metadata": {},
          "execution_count": 22
        }
      ]
    },
    {
      "cell_type": "code",
      "metadata": {
        "scrolled": true,
        "colab": {
          "base_uri": "https://localhost:8080/"
        },
        "id": "timely-canyon",
        "outputId": "2d1ff3f5-2565-4f15-aa43-b75c67b62a76"
      },
      "source": [
        "# Predicted probabilities of 0 or 1\n",
        "model = LogisticRegression()\n",
        "model.fit(X_train,y_train.values.ravel())\n",
        "y_pred = model.predict_proba(X_test)\n",
        "y_pred"
      ],
      "id": "timely-canyon",
      "execution_count": null,
      "outputs": [
        {
          "output_type": "execute_result",
          "data": {
            "text/plain": [
              "array([[0.91881919, 0.07383936, 0.00734145],\n",
              "       [0.7138311 , 0.23083863, 0.05533028],\n",
              "       [0.9520464 , 0.04319972, 0.00475387],\n",
              "       [0.89171975, 0.09866348, 0.00961678],\n",
              "       [0.93332681, 0.05885977, 0.00781342],\n",
              "       [0.92881491, 0.06513293, 0.00605216],\n",
              "       [0.46135624, 0.42444496, 0.11419879],\n",
              "       [0.94438659, 0.04959755, 0.00601586],\n",
              "       [0.9008199 , 0.08935186, 0.00982824],\n",
              "       [0.89524097, 0.09548648, 0.00927255],\n",
              "       [0.93497103, 0.05877316, 0.00625581],\n",
              "       [0.8876793 , 0.09956195, 0.01275875],\n",
              "       [0.93401391, 0.05601048, 0.0099756 ],\n",
              "       [0.46167627, 0.42408586, 0.11423787],\n",
              "       [0.79796118, 0.17032463, 0.03171419],\n",
              "       [0.88352816, 0.10413637, 0.01233547],\n",
              "       [0.91921518, 0.07225867, 0.00852615],\n",
              "       [0.67176767, 0.27832633, 0.049906  ],\n",
              "       [0.69254119, 0.27144363, 0.03601518],\n",
              "       [0.60227176, 0.33126688, 0.06646136],\n",
              "       [0.85972336, 0.12173568, 0.01854096],\n",
              "       [0.5323099 , 0.35066159, 0.11702851],\n",
              "       [0.87396355, 0.10166689, 0.02436956],\n",
              "       [0.80238901, 0.16901054, 0.02860046],\n",
              "       [0.25517788, 0.57122257, 0.17359954],\n",
              "       [0.67948167, 0.25481053, 0.0657078 ],\n",
              "       [0.77414925, 0.19335229, 0.03249846],\n",
              "       [0.916764  , 0.07522994, 0.00800606],\n",
              "       [0.48107049, 0.43505129, 0.08387823],\n",
              "       [0.84589006, 0.12941404, 0.0246959 ],\n",
              "       [0.95116521, 0.04513545, 0.00369935],\n",
              "       [0.87552389, 0.10935295, 0.01512316],\n",
              "       [0.53939648, 0.34807768, 0.11252585],\n",
              "       [0.63508035, 0.30591317, 0.05900647],\n",
              "       [0.94583717, 0.04757719, 0.00658564],\n",
              "       [0.92894136, 0.06461192, 0.00644672],\n",
              "       [0.79069789, 0.18228267, 0.02701943],\n",
              "       [0.89929884, 0.08993181, 0.01076935],\n",
              "       [0.93018615, 0.06339456, 0.00641929],\n",
              "       [0.53795215, 0.34989415, 0.1121537 ],\n",
              "       [0.92918428, 0.0617458 , 0.00906992],\n",
              "       [0.78747105, 0.18151629, 0.03101266],\n",
              "       [0.55033757, 0.3517687 , 0.09789373],\n",
              "       [0.48671371, 0.39753046, 0.11575583],\n",
              "       [0.91939084, 0.0720268 , 0.00858236],\n",
              "       [0.86707346, 0.1167072 , 0.01621934],\n",
              "       [0.30323215, 0.42129142, 0.27547643],\n",
              "       [0.47361862, 0.37193246, 0.15444892],\n",
              "       [0.62631971, 0.30795296, 0.06572733],\n",
              "       [0.81628144, 0.15851586, 0.0252027 ],\n",
              "       [0.88902494, 0.09700731, 0.01396775],\n",
              "       [0.70770165, 0.23057849, 0.06171987],\n",
              "       [0.89622449, 0.08725013, 0.01652538],\n",
              "       [0.92799111, 0.06530439, 0.0067045 ],\n",
              "       [0.60258652, 0.32477823, 0.07263524],\n",
              "       [0.92779918, 0.06536629, 0.00683453],\n",
              "       [0.98250628, 0.01601015, 0.00148356],\n",
              "       [0.61631271, 0.32077019, 0.0629171 ],\n",
              "       [0.96771884, 0.02976415, 0.00251701],\n",
              "       [0.62300881, 0.30325967, 0.07373152],\n",
              "       [0.90547738, 0.07662219, 0.01790043],\n",
              "       [0.64330304, 0.28432123, 0.07237573],\n",
              "       [0.79840381, 0.17490736, 0.02668883],\n",
              "       [0.40873502, 0.46050729, 0.13075769],\n",
              "       [0.64596704, 0.29308898, 0.06094397],\n",
              "       [0.84919286, 0.12775873, 0.02304841],\n",
              "       [0.52724197, 0.37343136, 0.09932666],\n",
              "       [0.80330881, 0.16602176, 0.03066942],\n",
              "       [0.94179884, 0.05295196, 0.0052492 ],\n",
              "       [0.53716289, 0.35954972, 0.10328739],\n",
              "       [0.70130217, 0.23671557, 0.06198226],\n",
              "       [0.86788174, 0.1186244 , 0.01349386],\n",
              "       [0.80608869, 0.16404562, 0.02986569],\n",
              "       [0.90544747, 0.08355755, 0.01099498],\n",
              "       [0.83159122, 0.14237381, 0.02603498],\n",
              "       [0.85387667, 0.13017768, 0.01594565],\n",
              "       [0.80056321, 0.16515357, 0.03428322],\n",
              "       [0.82370499, 0.1527188 , 0.02357621],\n",
              "       [0.95105036, 0.04360734, 0.00534229],\n",
              "       [0.57241802, 0.35012086, 0.07746112],\n",
              "       [0.93781426, 0.05464204, 0.0075437 ],\n",
              "       [0.8989514 , 0.08860904, 0.01243956],\n",
              "       [0.40225589, 0.38950673, 0.20823738],\n",
              "       [0.93190685, 0.06219378, 0.00589937]])"
            ]
          },
          "metadata": {},
          "execution_count": 23
        }
      ]
    },
    {
      "cell_type": "code",
      "metadata": {
        "scrolled": true,
        "colab": {
          "base_uri": "https://localhost:8080/",
          "height": 419
        },
        "id": "executed-israeli",
        "outputId": "bd5bd4b7-9a51-4224-a97e-fa6de2c41772"
      },
      "source": [
        "# Another way to find predicted probabilities of 0 or 1 (doing this to make sure above code is correct)\n",
        "\n",
        "##predict probabilities of testing instances being in classes 0 or 1\n",
        "\n",
        "model1 = LogisticRegression()\n",
        "model1.fit(X_train,y_train.values.ravel())\n",
        "\n",
        "predicted_prob=model1.predict_proba(X_test)\n",
        "\n",
        "##turn it into a pandas dataframe\n",
        "\n",
        "model1_pred=pd.DataFrame(predicted_prob,columns=[\"prob_0\",\"prob_1\",\"prob_2\"])\n",
        "\n",
        " ##record the index of testing set target \n",
        "\n",
        "index = y_test.index.values\n",
        "\n",
        "actual = y_test.reset_index(drop=True)\n",
        "\n",
        " ##putting actual target values and predicted probabilities from model into the same pandas dataframe, then reset index\n",
        "\n",
        "predictions_log = pd.concat([actual,model1_pred], axis=1)\n",
        "\n",
        "predictions_log.set_index(index,inplace=True)\n",
        "display(predictions_log)"
      ],
      "id": "executed-israeli",
      "execution_count": null,
      "outputs": [
        {
          "output_type": "display_data",
          "data": {
            "text/html": [
              "<div>\n",
              "<style scoped>\n",
              "    .dataframe tbody tr th:only-of-type {\n",
              "        vertical-align: middle;\n",
              "    }\n",
              "\n",
              "    .dataframe tbody tr th {\n",
              "        vertical-align: top;\n",
              "    }\n",
              "\n",
              "    .dataframe thead th {\n",
              "        text-align: right;\n",
              "    }\n",
              "</style>\n",
              "<table border=\"1\" class=\"dataframe\">\n",
              "  <thead>\n",
              "    <tr style=\"text-align: right;\">\n",
              "      <th></th>\n",
              "      <th>Type</th>\n",
              "      <th>prob_0</th>\n",
              "      <th>prob_1</th>\n",
              "      <th>prob_2</th>\n",
              "    </tr>\n",
              "  </thead>\n",
              "  <tbody>\n",
              "    <tr>\n",
              "      <th>philip tot</th>\n",
              "      <td>0.0</td>\n",
              "      <td>0.918819</td>\n",
              "      <td>0.073839</td>\n",
              "      <td>0.007341</td>\n",
              "    </tr>\n",
              "    <tr>\n",
              "      <th>john mcfarland</th>\n",
              "      <td>0.0</td>\n",
              "      <td>0.713831</td>\n",
              "      <td>0.230839</td>\n",
              "      <td>0.055330</td>\n",
              "    </tr>\n",
              "    <tr>\n",
              "      <th>jared hauf</th>\n",
              "      <td>0.0</td>\n",
              "      <td>0.952046</td>\n",
              "      <td>0.043200</td>\n",
              "      <td>0.004754</td>\n",
              "    </tr>\n",
              "    <tr>\n",
              "      <th>stephen macaulay</th>\n",
              "      <td>0.0</td>\n",
              "      <td>0.891720</td>\n",
              "      <td>0.098663</td>\n",
              "      <td>0.009617</td>\n",
              "    </tr>\n",
              "    <tr>\n",
              "      <th>luke cairns</th>\n",
              "      <td>0.0</td>\n",
              "      <td>0.933327</td>\n",
              "      <td>0.058860</td>\n",
              "      <td>0.007813</td>\n",
              "    </tr>\n",
              "    <tr>\n",
              "      <th>...</th>\n",
              "      <td>...</td>\n",
              "      <td>...</td>\n",
              "      <td>...</td>\n",
              "      <td>...</td>\n",
              "    </tr>\n",
              "    <tr>\n",
              "      <th>brett connolly</th>\n",
              "      <td>1.0</td>\n",
              "      <td>0.572418</td>\n",
              "      <td>0.350121</td>\n",
              "      <td>0.077461</td>\n",
              "    </tr>\n",
              "    <tr>\n",
              "      <th>jeff corbett</th>\n",
              "      <td>0.0</td>\n",
              "      <td>0.937814</td>\n",
              "      <td>0.054642</td>\n",
              "      <td>0.007544</td>\n",
              "    </tr>\n",
              "    <tr>\n",
              "      <th>jesse forsberg</th>\n",
              "      <td>0.0</td>\n",
              "      <td>0.898951</td>\n",
              "      <td>0.088609</td>\n",
              "      <td>0.012440</td>\n",
              "    </tr>\n",
              "    <tr>\n",
              "      <th>matt puempel</th>\n",
              "      <td>0.0</td>\n",
              "      <td>0.402256</td>\n",
              "      <td>0.389507</td>\n",
              "      <td>0.208237</td>\n",
              "    </tr>\n",
              "    <tr>\n",
              "      <th>kayle doetzel</th>\n",
              "      <td>0.0</td>\n",
              "      <td>0.931907</td>\n",
              "      <td>0.062194</td>\n",
              "      <td>0.005899</td>\n",
              "    </tr>\n",
              "  </tbody>\n",
              "</table>\n",
              "<p>84 rows × 4 columns</p>\n",
              "</div>"
            ],
            "text/plain": [
              "                  Type    prob_0    prob_1    prob_2\n",
              "philip tot         0.0  0.918819  0.073839  0.007341\n",
              "john mcfarland     0.0  0.713831  0.230839  0.055330\n",
              "jared hauf         0.0  0.952046  0.043200  0.004754\n",
              "stephen macaulay   0.0  0.891720  0.098663  0.009617\n",
              "luke cairns        0.0  0.933327  0.058860  0.007813\n",
              "...                ...       ...       ...       ...\n",
              "brett connolly     1.0  0.572418  0.350121  0.077461\n",
              "jeff corbett       0.0  0.937814  0.054642  0.007544\n",
              "jesse forsberg     0.0  0.898951  0.088609  0.012440\n",
              "matt puempel       0.0  0.402256  0.389507  0.208237\n",
              "kayle doetzel      0.0  0.931907  0.062194  0.005899\n",
              "\n",
              "[84 rows x 4 columns]"
            ]
          },
          "metadata": {}
        }
      ]
    },
    {
      "cell_type": "code",
      "metadata": {
        "colab": {
          "base_uri": "https://localhost:8080/",
          "height": 669
        },
        "id": "elegant-regard",
        "outputId": "b471b126-d983-4bb5-c5b3-432a84c7f5a7"
      },
      "source": [
        "predictions_log.sort_values(by='prob_2',ascending=False).head(20)"
      ],
      "id": "elegant-regard",
      "execution_count": null,
      "outputs": [
        {
          "output_type": "execute_result",
          "data": {
            "text/html": [
              "<div>\n",
              "<style scoped>\n",
              "    .dataframe tbody tr th:only-of-type {\n",
              "        vertical-align: middle;\n",
              "    }\n",
              "\n",
              "    .dataframe tbody tr th {\n",
              "        vertical-align: top;\n",
              "    }\n",
              "\n",
              "    .dataframe thead th {\n",
              "        text-align: right;\n",
              "    }\n",
              "</style>\n",
              "<table border=\"1\" class=\"dataframe\">\n",
              "  <thead>\n",
              "    <tr style=\"text-align: right;\">\n",
              "      <th></th>\n",
              "      <th>Type</th>\n",
              "      <th>prob_0</th>\n",
              "      <th>prob_1</th>\n",
              "      <th>prob_2</th>\n",
              "    </tr>\n",
              "  </thead>\n",
              "  <tbody>\n",
              "    <tr>\n",
              "      <th>sean monahan</th>\n",
              "      <td>2.0</td>\n",
              "      <td>0.303232</td>\n",
              "      <td>0.421291</td>\n",
              "      <td>0.275476</td>\n",
              "    </tr>\n",
              "    <tr>\n",
              "      <th>matt puempel</th>\n",
              "      <td>0.0</td>\n",
              "      <td>0.402256</td>\n",
              "      <td>0.389507</td>\n",
              "      <td>0.208237</td>\n",
              "    </tr>\n",
              "    <tr>\n",
              "      <th>shane prince</th>\n",
              "      <td>1.0</td>\n",
              "      <td>0.255178</td>\n",
              "      <td>0.571223</td>\n",
              "      <td>0.173600</td>\n",
              "    </tr>\n",
              "    <tr>\n",
              "      <th>mark scheifele</th>\n",
              "      <td>2.0</td>\n",
              "      <td>0.473619</td>\n",
              "      <td>0.371932</td>\n",
              "      <td>0.154449</td>\n",
              "    </tr>\n",
              "    <tr>\n",
              "      <th>charles hudon</th>\n",
              "      <td>1.0</td>\n",
              "      <td>0.408735</td>\n",
              "      <td>0.460507</td>\n",
              "      <td>0.130758</td>\n",
              "    </tr>\n",
              "    <tr>\n",
              "      <th>hunter shinkaruk</th>\n",
              "      <td>0.0</td>\n",
              "      <td>0.532310</td>\n",
              "      <td>0.350662</td>\n",
              "      <td>0.117029</td>\n",
              "    </tr>\n",
              "    <tr>\n",
              "      <th>brendan gaunce</th>\n",
              "      <td>0.0</td>\n",
              "      <td>0.486714</td>\n",
              "      <td>0.397530</td>\n",
              "      <td>0.115756</td>\n",
              "    </tr>\n",
              "    <tr>\n",
              "      <th>valentin zykov</th>\n",
              "      <td>0.0</td>\n",
              "      <td>0.461676</td>\n",
              "      <td>0.424086</td>\n",
              "      <td>0.114238</td>\n",
              "    </tr>\n",
              "    <tr>\n",
              "      <th>stefan noesen</th>\n",
              "      <td>1.0</td>\n",
              "      <td>0.461356</td>\n",
              "      <td>0.424445</td>\n",
              "      <td>0.114199</td>\n",
              "    </tr>\n",
              "    <tr>\n",
              "      <th>christian thomas</th>\n",
              "      <td>0.0</td>\n",
              "      <td>0.539396</td>\n",
              "      <td>0.348078</td>\n",
              "      <td>0.112526</td>\n",
              "    </tr>\n",
              "    <tr>\n",
              "      <th>brandon gormley</th>\n",
              "      <td>0.0</td>\n",
              "      <td>0.537952</td>\n",
              "      <td>0.349894</td>\n",
              "      <td>0.112154</td>\n",
              "    </tr>\n",
              "    <tr>\n",
              "      <th>michael bournival</th>\n",
              "      <td>1.0</td>\n",
              "      <td>0.537163</td>\n",
              "      <td>0.359550</td>\n",
              "      <td>0.103287</td>\n",
              "    </tr>\n",
              "    <tr>\n",
              "      <th>adam erne</th>\n",
              "      <td>0.0</td>\n",
              "      <td>0.527242</td>\n",
              "      <td>0.373431</td>\n",
              "      <td>0.099327</td>\n",
              "    </tr>\n",
              "    <tr>\n",
              "      <th>justin feser</th>\n",
              "      <td>0.0</td>\n",
              "      <td>0.550338</td>\n",
              "      <td>0.351769</td>\n",
              "      <td>0.097894</td>\n",
              "    </tr>\n",
              "    <tr>\n",
              "      <th>vincent dunn</th>\n",
              "      <td>0.0</td>\n",
              "      <td>0.481070</td>\n",
              "      <td>0.435051</td>\n",
              "      <td>0.083878</td>\n",
              "    </tr>\n",
              "    <tr>\n",
              "      <th>brett connolly</th>\n",
              "      <td>1.0</td>\n",
              "      <td>0.572418</td>\n",
              "      <td>0.350121</td>\n",
              "      <td>0.077461</td>\n",
              "    </tr>\n",
              "    <tr>\n",
              "      <th>brooks macek</th>\n",
              "      <td>0.0</td>\n",
              "      <td>0.623009</td>\n",
              "      <td>0.303260</td>\n",
              "      <td>0.073732</td>\n",
              "    </tr>\n",
              "    <tr>\n",
              "      <th>nicholas baptiste</th>\n",
              "      <td>0.0</td>\n",
              "      <td>0.602587</td>\n",
              "      <td>0.324778</td>\n",
              "      <td>0.072635</td>\n",
              "    </tr>\n",
              "    <tr>\n",
              "      <th>adam janosik</th>\n",
              "      <td>0.0</td>\n",
              "      <td>0.643303</td>\n",
              "      <td>0.284321</td>\n",
              "      <td>0.072376</td>\n",
              "    </tr>\n",
              "    <tr>\n",
              "      <th>tim bozon</th>\n",
              "      <td>0.0</td>\n",
              "      <td>0.602272</td>\n",
              "      <td>0.331267</td>\n",
              "      <td>0.066461</td>\n",
              "    </tr>\n",
              "  </tbody>\n",
              "</table>\n",
              "</div>"
            ],
            "text/plain": [
              "                   Type    prob_0    prob_1    prob_2\n",
              "sean monahan        2.0  0.303232  0.421291  0.275476\n",
              "matt puempel        0.0  0.402256  0.389507  0.208237\n",
              "shane prince        1.0  0.255178  0.571223  0.173600\n",
              "mark scheifele      2.0  0.473619  0.371932  0.154449\n",
              "charles hudon       1.0  0.408735  0.460507  0.130758\n",
              "hunter shinkaruk    0.0  0.532310  0.350662  0.117029\n",
              "brendan gaunce      0.0  0.486714  0.397530  0.115756\n",
              "valentin zykov      0.0  0.461676  0.424086  0.114238\n",
              "stefan noesen       1.0  0.461356  0.424445  0.114199\n",
              "christian thomas    0.0  0.539396  0.348078  0.112526\n",
              "brandon gormley     0.0  0.537952  0.349894  0.112154\n",
              "michael bournival   1.0  0.537163  0.359550  0.103287\n",
              "adam erne           0.0  0.527242  0.373431  0.099327\n",
              "justin feser        0.0  0.550338  0.351769  0.097894\n",
              "vincent dunn        0.0  0.481070  0.435051  0.083878\n",
              "brett connolly      1.0  0.572418  0.350121  0.077461\n",
              "brooks macek        0.0  0.623009  0.303260  0.073732\n",
              "nicholas baptiste   0.0  0.602587  0.324778  0.072635\n",
              "adam janosik        0.0  0.643303  0.284321  0.072376\n",
              "tim bozon           0.0  0.602272  0.331267  0.066461"
            ]
          },
          "metadata": {},
          "execution_count": 25
        }
      ]
    },
    {
      "cell_type": "markdown",
      "metadata": {
        "id": "unlimited-finnish"
      },
      "source": [
        "Actual picks\n",
        "- Sean Monahan: 2013, 1st rd, 6th pk (6th overall)\n",
        "- Matt Puempel: 2011, 1st rd, 24th pk (24th overall)\n",
        "- Shane Prince: 2011, 2nd rd, 31st pk (61st overall)\n",
        "- Mark Scheifele: 2011, 1st rd, 7th pk (7th overall)\n",
        "- Charles Hudon: 2012, 5th rd, 1st pk (122nd overall)\n",
        "- Hunter Shinkaruk: 2013, 1st rd, 24th pk (24th overall)\n",
        "- Brendan Gaunce: 2012, 1st rd, 26th pk (26th overall)\n",
        "- Valentin Zykov: 2013, 2nd rd, 7th pk (37th overall)\n",
        "- Stefan Noesen: 2011, 1st rd, 21st pk (21st overall)\n",
        "- Christian Thomas: 2010, 2nd rd, 10th pk, (40th overall)"
      ],
      "id": "unlimited-finnish"
    },
    {
      "cell_type": "code",
      "metadata": {
        "colab": {
          "base_uri": "https://localhost:8080/"
        },
        "id": "copyrighted-champion",
        "outputId": "3f0e73c6-598f-47a5-ccdd-d2fac27e91dc"
      },
      "source": [
        "model1.coef_"
      ],
      "id": "copyrighted-champion",
      "execution_count": null,
      "outputs": [
        {
          "output_type": "execute_result",
          "data": {
            "text/plain": [
              "array([[-0.78690494, -1.28155894, -1.51884529,  0.34702878, -1.11442279,\n",
              "         0.15578269, -1.22407498, -1.02355884,  0.87344765, -0.50097709,\n",
              "         0.03981788],\n",
              "       [ 0.36340109, -0.1646684 ,  0.55044269, -0.17930934,  0.50053408,\n",
              "        -0.36947821,  0.44985393,  0.50810881, -0.41632906,  0.2065283 ,\n",
              "        -0.16292154],\n",
              "       [ 0.42350386,  1.44622734,  0.9684026 , -0.16771945,  0.61388871,\n",
              "         0.21369553,  0.77422105,  0.51545003, -0.45711859,  0.29444879,\n",
              "         0.12310365]])"
            ]
          },
          "metadata": {},
          "execution_count": 26
        }
      ]
    },
    {
      "cell_type": "code",
      "metadata": {
        "colab": {
          "base_uri": "https://localhost:8080/",
          "height": 499
        },
        "id": "external-model",
        "outputId": "8b76bcc0-bec4-468d-c856-0e83308d4bfd"
      },
      "source": [
        "from matplotlib import pyplot\n",
        "# Get coefficients\n",
        "importance = lr_fit.coef_[0]\n",
        "# Summarize feature importance\n",
        "# Print the feature ranking\n",
        "print(\"Logistic Regression Feature Coefficients For Player Type 0:\")\n",
        "for i,v in enumerate(importance):\n",
        "    print('Feature %0d: %.5f' % (i,v))\n",
        "# Plot feature importance\n",
        "# Reports the coefficient value for each feature.\n",
        "pyplot.title(\"Logistic Regression Feature Coefficients For Player Type 0\")\n",
        "pyplot.xlabel(\"Feature Number\")\n",
        "pyplot.ylabel(\"Feature Coefficient\")\n",
        "pyplot.bar([x for x in range(len(importance))], importance)\n",
        "pyplot.show()"
      ],
      "id": "external-model",
      "execution_count": null,
      "outputs": [
        {
          "output_type": "stream",
          "text": [
            "Logistic Regression Feature Coefficients For Player Type 0:\n",
            "Feature 0: -0.78690\n",
            "Feature 1: -1.28156\n",
            "Feature 2: -1.51885\n",
            "Feature 3: 0.34703\n",
            "Feature 4: -1.11442\n",
            "Feature 5: 0.15578\n",
            "Feature 6: -1.22407\n",
            "Feature 7: -1.02356\n",
            "Feature 8: 0.87345\n",
            "Feature 9: -0.50098\n",
            "Feature 10: 0.03982\n"
          ],
          "name": "stdout"
        },
        {
          "output_type": "display_data",
          "data": {
            "image/png": "[encoded data removed]",
            "text/plain": [
              "<Figure size 432x288 with 1 Axes>"
            ]
          },
          "metadata": {
            "needs_background": "light"
          }
        }
      ]
    },
    {
      "cell_type": "code",
      "metadata": {
        "colab": {
          "base_uri": "https://localhost:8080/",
          "height": 499
        },
        "id": "mature-celtic",
        "outputId": "5ce86f5e-deac-49b6-937a-017db804c322"
      },
      "source": [
        "from matplotlib import pyplot\n",
        "# Get coefficients\n",
        "importance = lr_fit.coef_[1]\n",
        "# Summarize feature importance\n",
        "# Print the feature ranking\n",
        "print(\"Logistic Regression Feature Coefficients For Player Type 1:\")\n",
        "for i,v in enumerate(importance):\n",
        "    print('Feature %0d: %.5f' % (i,v))\n",
        "# Plot feature importance\n",
        "# Reports the coefficient value for each feature.\n",
        "pyplot.title(\"Logistic Regression Feature Coefficients For Player Type 1\")\n",
        "pyplot.xlabel(\"Feature Number\")\n",
        "pyplot.ylabel(\"Feature Coefficient\")\n",
        "pyplot.bar([x for x in range(len(importance))], importance)\n",
        "pyplot.show()"
      ],
      "id": "mature-celtic",
      "execution_count": null,
      "outputs": [
        {
          "output_type": "stream",
          "text": [
            "Logistic Regression Feature Coefficients For Player Type 1:\n",
            "Feature 0: 0.36340\n",
            "Feature 1: -0.16467\n",
            "Feature 2: 0.55044\n",
            "Feature 3: -0.17931\n",
            "Feature 4: 0.50053\n",
            "Feature 5: -0.36948\n",
            "Feature 6: 0.44985\n",
            "Feature 7: 0.50811\n",
            "Feature 8: -0.41633\n",
            "Feature 9: 0.20653\n",
            "Feature 10: -0.16292\n"
          ],
          "name": "stdout"
        },
        {
          "output_type": "display_data",
          "data": {
            "image/png": "[encoded data removed]",
            "text/plain": [
              "<Figure size 432x288 with 1 Axes>"
            ]
          },
          "metadata": {
            "needs_background": "light"
          }
        }
      ]
    },
    {
      "cell_type": "code",
      "metadata": {
        "colab": {
          "base_uri": "https://localhost:8080/",
          "height": 499
        },
        "id": "previous-bradford",
        "outputId": "66531646-bf4b-416d-93e6-17bc8fc8e465"
      },
      "source": [
        "from matplotlib import pyplot\n",
        "# Get coefficients\n",
        "importance = lr_fit.coef_[2]\n",
        "# Summarize feature importance\n",
        "# Print the feature ranking\n",
        "print(\"Logistic Regression Feature Coefficients For Player Type 2:\")\n",
        "for i,v in enumerate(importance):\n",
        "    print('Feature %0d: %.5f' % (i,v))\n",
        "# Plot feature importance\n",
        "# Reports the coefficient value for each feature.\n",
        "pyplot.title(\"Logistic Regression Feature Coefficients For Player Type 2\")\n",
        "pyplot.xlabel(\"Feature Number\")\n",
        "pyplot.ylabel(\"Feature Coefficient\")\n",
        "pyplot.bar([x for x in range(len(importance))], importance)\n",
        "pyplot.show()"
      ],
      "id": "previous-bradford",
      "execution_count": null,
      "outputs": [
        {
          "output_type": "stream",
          "text": [
            "Logistic Regression Feature Coefficients For Player Type 2:\n",
            "Feature 0: 0.42350\n",
            "Feature 1: 1.44623\n",
            "Feature 2: 0.96840\n",
            "Feature 3: -0.16772\n",
            "Feature 4: 0.61389\n",
            "Feature 5: 0.21370\n",
            "Feature 6: 0.77422\n",
            "Feature 7: 0.51545\n",
            "Feature 8: -0.45712\n",
            "Feature 9: 0.29445\n",
            "Feature 10: 0.12310\n"
          ],
          "name": "stdout"
        },
        {
          "output_type": "display_data",
          "data": {
            "image/png": "[encoded data removed]",
            "text/plain": [
              "<Figure size 432x288 with 1 Axes>"
            ]
          },
          "metadata": {
            "needs_background": "light"
          }
        }
      ]
    },
    {
      "cell_type": "markdown",
      "metadata": {
        "id": "absolute-utility"
      },
      "source": [
        "***Model 2: KNN Classifier***"
      ],
      "id": "absolute-utility"
    },
    {
      "cell_type": "code",
      "metadata": {
        "id": "ancient-japan"
      },
      "source": [
        "# k-nearest neighbours\n",
        "from sklearn.neighbors import KNeighborsClassifier\n",
        "##fit training data, default model parameters\n",
        "knn = KNeighborsClassifier().fit(X_train,y_train.values.ravel())\n",
        "## get predicted values and class probabilities\n",
        "knn_pred = pd.Series(knn.predict(X_test),name=\"knn_pred\")\n",
        "knn_prob = pd.DataFrame(knn.predict_proba(X_test),columns=[\"knn_prob_0\",\"knn_prob_1\",'knn_prob_2'])"
      ],
      "id": "ancient-japan",
      "execution_count": null,
      "outputs": []
    },
    {
      "cell_type": "code",
      "metadata": {
        "colab": {
          "base_uri": "https://localhost:8080/",
          "height": 450
        },
        "id": "innovative-spine",
        "outputId": "920db5d3-0721-4499-cc70-544dfcceb6b3"
      },
      "source": [
        "display(y_test) # displaying y_test to be able to compare the true values with the predicted values below"
      ],
      "id": "innovative-spine",
      "execution_count": null,
      "outputs": [
        {
          "output_type": "display_data",
          "data": {
            "text/html": [
              "<div>\n",
              "<style scoped>\n",
              "    .dataframe tbody tr th:only-of-type {\n",
              "        vertical-align: middle;\n",
              "    }\n",
              "\n",
              "    .dataframe tbody tr th {\n",
              "        vertical-align: top;\n",
              "    }\n",
              "\n",
              "    .dataframe thead th {\n",
              "        text-align: right;\n",
              "    }\n",
              "</style>\n",
              "<table border=\"1\" class=\"dataframe\">\n",
              "  <thead>\n",
              "    <tr style=\"text-align: right;\">\n",
              "      <th></th>\n",
              "      <th>Type</th>\n",
              "    </tr>\n",
              "    <tr>\n",
              "      <th>name</th>\n",
              "      <th></th>\n",
              "    </tr>\n",
              "  </thead>\n",
              "  <tbody>\n",
              "    <tr>\n",
              "      <th>philip tot</th>\n",
              "      <td>0.0</td>\n",
              "    </tr>\n",
              "    <tr>\n",
              "      <th>john mcfarland</th>\n",
              "      <td>0.0</td>\n",
              "    </tr>\n",
              "    <tr>\n",
              "      <th>jared hauf</th>\n",
              "      <td>0.0</td>\n",
              "    </tr>\n",
              "    <tr>\n",
              "      <th>stephen macaulay</th>\n",
              "      <td>0.0</td>\n",
              "    </tr>\n",
              "    <tr>\n",
              "      <th>luke cairns</th>\n",
              "      <td>0.0</td>\n",
              "    </tr>\n",
              "    <tr>\n",
              "      <th>...</th>\n",
              "      <td>...</td>\n",
              "    </tr>\n",
              "    <tr>\n",
              "      <th>brett connolly</th>\n",
              "      <td>1.0</td>\n",
              "    </tr>\n",
              "    <tr>\n",
              "      <th>jeff corbett</th>\n",
              "      <td>0.0</td>\n",
              "    </tr>\n",
              "    <tr>\n",
              "      <th>jesse forsberg</th>\n",
              "      <td>0.0</td>\n",
              "    </tr>\n",
              "    <tr>\n",
              "      <th>matt puempel</th>\n",
              "      <td>0.0</td>\n",
              "    </tr>\n",
              "    <tr>\n",
              "      <th>kayle doetzel</th>\n",
              "      <td>0.0</td>\n",
              "    </tr>\n",
              "  </tbody>\n",
              "</table>\n",
              "<p>84 rows × 1 columns</p>\n",
              "</div>"
            ],
            "text/plain": [
              "                  Type\n",
              "name                  \n",
              "philip tot         0.0\n",
              "john mcfarland     0.0\n",
              "jared hauf         0.0\n",
              "stephen macaulay   0.0\n",
              "luke cairns        0.0\n",
              "...                ...\n",
              "brett connolly     1.0\n",
              "jeff corbett       0.0\n",
              "jesse forsberg     0.0\n",
              "matt puempel       0.0\n",
              "kayle doetzel      0.0\n",
              "\n",
              "[84 rows x 1 columns]"
            ]
          },
          "metadata": {}
        }
      ]
    },
    {
      "cell_type": "code",
      "metadata": {
        "colab": {
          "base_uri": "https://localhost:8080/",
          "height": 221
        },
        "id": "alpine-charlotte",
        "outputId": "699ba319-fdfa-4bfa-d38b-a07684357bbd"
      },
      "source": [
        "display(knn_pred)"
      ],
      "id": "alpine-charlotte",
      "execution_count": null,
      "outputs": [
        {
          "output_type": "display_data",
          "data": {
            "text/plain": [
              "0     0.0\n",
              "1     0.0\n",
              "2     0.0\n",
              "3     0.0\n",
              "4     0.0\n",
              "     ... \n",
              "79    0.0\n",
              "80    0.0\n",
              "81    0.0\n",
              "82    0.0\n",
              "83    0.0\n",
              "Name: knn_pred, Length: 84, dtype: float64"
            ]
          },
          "metadata": {}
        }
      ]
    },
    {
      "cell_type": "code",
      "metadata": {
        "scrolled": false,
        "colab": {
          "base_uri": "https://localhost:8080/",
          "height": 419
        },
        "id": "mobile-wagon",
        "outputId": "3f3968df-89ea-48ad-d03f-20943b5739b3"
      },
      "source": [
        "# Predicted probabilities for KNN model\n",
        "display(knn_prob)"
      ],
      "id": "mobile-wagon",
      "execution_count": null,
      "outputs": [
        {
          "output_type": "display_data",
          "data": {
            "text/html": [
              "<div>\n",
              "<style scoped>\n",
              "    .dataframe tbody tr th:only-of-type {\n",
              "        vertical-align: middle;\n",
              "    }\n",
              "\n",
              "    .dataframe tbody tr th {\n",
              "        vertical-align: top;\n",
              "    }\n",
              "\n",
              "    .dataframe thead th {\n",
              "        text-align: right;\n",
              "    }\n",
              "</style>\n",
              "<table border=\"1\" class=\"dataframe\">\n",
              "  <thead>\n",
              "    <tr style=\"text-align: right;\">\n",
              "      <th></th>\n",
              "      <th>knn_prob_0</th>\n",
              "      <th>knn_prob_1</th>\n",
              "      <th>knn_prob_2</th>\n",
              "    </tr>\n",
              "  </thead>\n",
              "  <tbody>\n",
              "    <tr>\n",
              "      <th>0</th>\n",
              "      <td>1.0</td>\n",
              "      <td>0.0</td>\n",
              "      <td>0.0</td>\n",
              "    </tr>\n",
              "    <tr>\n",
              "      <th>1</th>\n",
              "      <td>0.8</td>\n",
              "      <td>0.2</td>\n",
              "      <td>0.0</td>\n",
              "    </tr>\n",
              "    <tr>\n",
              "      <th>2</th>\n",
              "      <td>0.8</td>\n",
              "      <td>0.2</td>\n",
              "      <td>0.0</td>\n",
              "    </tr>\n",
              "    <tr>\n",
              "      <th>3</th>\n",
              "      <td>0.6</td>\n",
              "      <td>0.4</td>\n",
              "      <td>0.0</td>\n",
              "    </tr>\n",
              "    <tr>\n",
              "      <th>4</th>\n",
              "      <td>1.0</td>\n",
              "      <td>0.0</td>\n",
              "      <td>0.0</td>\n",
              "    </tr>\n",
              "    <tr>\n",
              "      <th>...</th>\n",
              "      <td>...</td>\n",
              "      <td>...</td>\n",
              "      <td>...</td>\n",
              "    </tr>\n",
              "    <tr>\n",
              "      <th>79</th>\n",
              "      <td>1.0</td>\n",
              "      <td>0.0</td>\n",
              "      <td>0.0</td>\n",
              "    </tr>\n",
              "    <tr>\n",
              "      <th>80</th>\n",
              "      <td>1.0</td>\n",
              "      <td>0.0</td>\n",
              "      <td>0.0</td>\n",
              "    </tr>\n",
              "    <tr>\n",
              "      <th>81</th>\n",
              "      <td>0.8</td>\n",
              "      <td>0.2</td>\n",
              "      <td>0.0</td>\n",
              "    </tr>\n",
              "    <tr>\n",
              "      <th>82</th>\n",
              "      <td>0.8</td>\n",
              "      <td>0.0</td>\n",
              "      <td>0.2</td>\n",
              "    </tr>\n",
              "    <tr>\n",
              "      <th>83</th>\n",
              "      <td>1.0</td>\n",
              "      <td>0.0</td>\n",
              "      <td>0.0</td>\n",
              "    </tr>\n",
              "  </tbody>\n",
              "</table>\n",
              "<p>84 rows × 3 columns</p>\n",
              "</div>"
            ],
            "text/plain": [
              "    knn_prob_0  knn_prob_1  knn_prob_2\n",
              "0          1.0         0.0         0.0\n",
              "1          0.8         0.2         0.0\n",
              "2          0.8         0.2         0.0\n",
              "3          0.6         0.4         0.0\n",
              "4          1.0         0.0         0.0\n",
              "..         ...         ...         ...\n",
              "79         1.0         0.0         0.0\n",
              "80         1.0         0.0         0.0\n",
              "81         0.8         0.2         0.0\n",
              "82         0.8         0.0         0.2\n",
              "83         1.0         0.0         0.0\n",
              "\n",
              "[84 rows x 3 columns]"
            ]
          },
          "metadata": {}
        }
      ]
    },
    {
      "cell_type": "code",
      "metadata": {
        "colab": {
          "base_uri": "https://localhost:8080/"
        },
        "id": "reported-freeware",
        "outputId": "4283299a-b99c-4b45-fbbe-a9c380a238bd"
      },
      "source": [
        "knn_prob['knn_prob_1'] # making sure I can get just the predicted probabilities of a 1"
      ],
      "id": "reported-freeware",
      "execution_count": null,
      "outputs": [
        {
          "output_type": "execute_result",
          "data": {
            "text/plain": [
              "0     0.0\n",
              "1     0.2\n",
              "2     0.2\n",
              "3     0.4\n",
              "4     0.0\n",
              "     ... \n",
              "79    0.0\n",
              "80    0.0\n",
              "81    0.2\n",
              "82    0.0\n",
              "83    0.0\n",
              "Name: knn_prob_1, Length: 84, dtype: float64"
            ]
          },
          "metadata": {},
          "execution_count": 34
        }
      ]
    },
    {
      "cell_type": "code",
      "metadata": {
        "colab": {
          "base_uri": "https://localhost:8080/"
        },
        "id": "interested-conversation",
        "outputId": "95e30641-d06e-47c7-c8d1-7dbea9d7ae2b"
      },
      "source": [
        "# mean accuracy on test data and labels for k-nearest neighbours\n",
        "knn.score(X_test, y_test)"
      ],
      "id": "interested-conversation",
      "execution_count": null,
      "outputs": [
        {
          "output_type": "execute_result",
          "data": {
            "text/plain": [
              "0.7619047619047619"
            ]
          },
          "metadata": {},
          "execution_count": 35
        }
      ]
    },
    {
      "cell_type": "markdown",
      "metadata": {
        "id": "variable-jones"
      },
      "source": [
        "***Model 3: Random Forest Classifier***"
      ],
      "id": "variable-jones"
    },
    {
      "cell_type": "code",
      "metadata": {
        "id": "premier-domain"
      },
      "source": [
        "from sklearn.ensemble import RandomForestClassifier\n",
        "from sklearn.metrics import accuracy_score"
      ],
      "id": "premier-domain",
      "execution_count": null,
      "outputs": []
    },
    {
      "cell_type": "code",
      "metadata": {
        "colab": {
          "base_uri": "https://localhost:8080/"
        },
        "id": "yellow-integral",
        "outputId": "9b2a97ab-eb7b-45ac-d5fa-81466b66a7e2"
      },
      "source": [
        "rnd_clf = RandomForestClassifier(n_estimators=500,n_jobs=-1)\n",
        "rnd_clf.fit(X_train,y_train.values.ravel())\n",
        "rnd_pred = rnd_clf.predict(X_test)\n",
        "\n",
        "print(rnd_clf.__class__.__name__, accuracy_score(y_test, rnd_pred))"
      ],
      "id": "yellow-integral",
      "execution_count": null,
      "outputs": [
        {
          "output_type": "stream",
          "text": [
            "RandomForestClassifier 0.7380952380952381\n"
          ],
          "name": "stdout"
        }
      ]
    },
    {
      "cell_type": "code",
      "metadata": {
        "colab": {
          "base_uri": "https://localhost:8080/"
        },
        "id": "universal-portrait",
        "outputId": "43781d92-1f2a-4853-e25b-261bbab819f5"
      },
      "source": [
        "# Features included in the models\n",
        "print(np.array(X_data.columns))"
      ],
      "id": "universal-portrait",
      "execution_count": null,
      "outputs": [
        {
          "output_type": "stream",
          "text": [
            "['ev p1/gp' 'pp p1/gp' 'tp/gp' 'goals/p1' 'ev gf%' 'ev gf%rel' 'etoi/gp'\n",
            " 'p1/e60' 'age' 'height' 'weight']\n"
          ],
          "name": "stdout"
        }
      ]
    },
    {
      "cell_type": "code",
      "metadata": {
        "colab": {
          "base_uri": "https://localhost:8080/"
        },
        "id": "beginning-symphony",
        "outputId": "63f88b25-9b4d-4cd9-e8fd-36c6b2dd8201"
      },
      "source": [
        "# All features\n",
        "print(np.array(data.columns))"
      ],
      "id": "beginning-symphony",
      "execution_count": null,
      "outputs": [
        {
          "output_type": "stream",
          "text": [
            "['league' 'dy+/-' 'season' 'ev p1/gp' 'pp p1/gp' 'tp/gp' 'goals/p1'\n",
            " 'ev gf%' 'ev gf%rel' 'etoi/gp' 'p1/e60' 'age' 'height' 'weight' 'Type']\n"
          ],
          "name": "stdout"
        }
      ]
    },
    {
      "cell_type": "code",
      "metadata": {
        "colab": {
          "base_uri": "https://localhost:8080/"
        },
        "id": "beautiful-avatar",
        "outputId": "b147249a-ce7a-4930-c8ab-abf42fe9a7a1"
      },
      "source": [
        "# Random forest classifier feature importance\n",
        "\n",
        "importances = rnd_clf.feature_importances_\n",
        "std = np.std([tree.feature_importances_ for tree in rnd_clf.estimators_],\n",
        "             axis=0)\n",
        "indices = np.argsort(importances)[::-1]\n",
        "\n",
        "# Print the feature ranking\n",
        "print(\"Random Forest Classifier Feature Ranking:\")\n",
        "\n",
        "for f in range(X_data.shape[1]):\n",
        "    print(\"%d. Feature %d: (%f)\" % (f + 1, indices[f], importances[indices[f]]))"
      ],
      "id": "beautiful-avatar",
      "execution_count": null,
      "outputs": [
        {
          "output_type": "stream",
          "text": [
            "Random Forest Classifier Feature Ranking:\n",
            "1. Feature 2: (0.138845)\n",
            "2. Feature 1: (0.126904)\n",
            "3. Feature 7: (0.109428)\n",
            "4. Feature 0: (0.108031)\n",
            "5. Feature 4: (0.102324)\n",
            "6. Feature 6: (0.080350)\n",
            "7. Feature 5: (0.075982)\n",
            "8. Feature 8: (0.075616)\n",
            "9. Feature 3: (0.067654)\n",
            "10. Feature 10: (0.058884)\n",
            "11. Feature 9: (0.055981)\n"
          ],
          "name": "stdout"
        }
      ]
    },
    {
      "cell_type": "code",
      "metadata": {
        "colab": {
          "base_uri": "https://localhost:8080/",
          "height": 319
        },
        "id": "excellent-whole",
        "outputId": "63b04842-f06d-4ee9-9cd0-d1058dc5be03"
      },
      "source": [
        "import matplotlib.pyplot as plt\n",
        "\n",
        "# Get feature importances from our random forest model\n",
        "importances = rnd_clf.feature_importances_\n",
        "\n",
        "# Get the index of importances from greatest importance to least\n",
        "sorted_index = np.argsort(importances)[::-1]\n",
        "x = range(len(importances))\n",
        "\n",
        "# Create tick labels \n",
        "labels = np.array(np.array(X_data.columns))[sorted_index]\n",
        "plt.bar(x, importances[sorted_index], tick_label=labels)\n",
        "\n",
        "# Rotate tick labels to vertical\n",
        "plt.xticks(rotation=90)\n",
        "plt.title(\"Random Forest Classifier Feature Importances\")\n",
        "plt.show()"
      ],
      "id": "excellent-whole",
      "execution_count": null,
      "outputs": [
        {
          "output_type": "display_data",
          "data": {
            "image/png": "[encoded data removed]",
            "text/plain": [
              "<Figure size 432x288 with 1 Axes>"
            ]
          },
          "metadata": {
            "needs_background": "light"
          }
        }
      ]
    },
    {
      "cell_type": "markdown",
      "metadata": {
        "id": "short-prediction"
      },
      "source": [
        "***Model 4: Gradient Boosting Classifier***"
      ],
      "id": "short-prediction"
    },
    {
      "cell_type": "code",
      "metadata": {
        "colab": {
          "base_uri": "https://localhost:8080/"
        },
        "id": "married-lobby",
        "outputId": "0859c954-97f5-46c5-e394-75aed6a4797a"
      },
      "source": [
        "from sklearn.ensemble import GradientBoostingClassifier\n",
        "\n",
        "gb_clf = GradientBoostingClassifier(n_estimators = 200, learning_rate = .5, max_depth = 1, random_state = 42).fit(X_train,y_train.values.ravel())\n",
        "gb_clf.score(X_test,y_test)"
      ],
      "id": "married-lobby",
      "execution_count": null,
      "outputs": [
        {
          "output_type": "execute_result",
          "data": {
            "text/plain": [
              "0.7261904761904762"
            ]
          },
          "metadata": {},
          "execution_count": 42
        }
      ]
    },
    {
      "cell_type": "markdown",
      "metadata": {
        "id": "continued-copying"
      },
      "source": [
        "***Model 5: Tree Classification***"
      ],
      "id": "continued-copying"
    },
    {
      "cell_type": "code",
      "metadata": {
        "colab": {
          "base_uri": "https://localhost:8080/",
          "height": 34
        },
        "id": "transsexual-measurement",
        "outputId": "12dbb33c-7d13-4cee-817d-21800b38ac79"
      },
      "source": [
        "from sklearn.tree import DecisionTreeClassifier\n",
        "    \n",
        "tree_fit = DecisionTreeClassifier(max_depth=2).fit(X_train, y_train)\n",
        "\n",
        "# get model prediction\n",
        "y_pred =tree_fit.predict(X_test)\n",
        "\n",
        "#calculating accuracy\n",
        "display(accuracy_score(y_test, y_pred))"
      ],
      "id": "transsexual-measurement",
      "execution_count": null,
      "outputs": [
        {
          "output_type": "display_data",
          "data": {
            "text/plain": [
              "0.7261904761904762"
            ]
          },
          "metadata": {}
        }
      ]
    },
    {
      "cell_type": "markdown",
      "metadata": {
        "id": "eight-intensity"
      },
      "source": [
        "***Model 6: Blended Model***"
      ],
      "id": "eight-intensity"
    },
    {
      "cell_type": "code",
      "metadata": {
        "colab": {
          "base_uri": "https://localhost:8080/"
        },
        "id": "persistent-death",
        "outputId": "a5ed2d57-7713-44b8-d692-8c50f39c6398"
      },
      "source": [
        "X_train_pred = list(zip(lr_fit.predict(X_train), tree_fit.predict(X_train)))\n",
        "X_train_pred = pd.DataFrame(X_train_pred)\n",
        "\n",
        "clf = RandomForestClassifier(n_estimators=500, n_jobs=-1)\n",
        "clf.fit(X_train_pred, y_train.values.ravel())\n",
        "\n",
        "X_test_pred = list(zip(lr_fit.predict(X_test), tree_fit.predict(X_test)))\n",
        "X_test_pred = pd.DataFrame(X_test_pred)\n",
        "\n",
        "\n",
        "pred = clf.predict(X_test_pred)\n",
        "\n",
        "print(clf.__class__.__name__, accuracy_score(y_test, pred))"
      ],
      "id": "persistent-death",
      "execution_count": null,
      "outputs": [
        {
          "output_type": "stream",
          "text": [
            "RandomForestClassifier 0.7261904761904762\n"
          ],
          "name": "stdout"
        }
      ]
    }
  ]
}